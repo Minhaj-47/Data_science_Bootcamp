{
 "cells": [
  {
   "cell_type": "code",
   "execution_count": 1,
   "id": "727dbd22",
   "metadata": {},
   "outputs": [],
   "source": [
    "from requests_html import HTMLSession"
   ]
  },
  {
   "cell_type": "code",
   "execution_count": 2,
   "id": "b955d910",
   "metadata": {},
   "outputs": [],
   "source": [
    "session = HTMLSession()"
   ]
  },
  {
   "cell_type": "code",
   "execution_count": 8,
   "id": "3d99f4d4",
   "metadata": {},
   "outputs": [],
   "source": [
    "def textFileGenerator(year_no):\n",
    "    month_no={\"January\":1,\"February\":2,\"March\":3,\"April\":4,\"May\":5,\"June\":6,\"July\":7,\"August\":8,\"September\":9,\"October\":10,\"November\":11,\"December\":12}\n",
    "    for k,v in month_no.items():\n",
    "        url=f\"https://dsebd.org/old_news.php?startDate={year_no}-0{v}-1&endDate={year_no}-0{v}-30&criteria=4&archive=news\"\n",
    "        r=session.get(url)\n",
    "        dse_news = r.html.find(\"#RightBody > div.row > div > div.table-responsive > table.table-news\")[0].text\n",
    "        dse_news_lst = dse_news.split('\\n')\n",
    "        trading_code = dse_news_lst[1::8]\n",
    "        news_title = dse_news_lst[3::8]\n",
    "        news = dse_news_lst[5::8]\n",
    "        post_date = dse_news_lst[7::8]\n",
    "        trading_code,news_title,news,post_date=trading_code[:-4],news_title[:-4],news[:-4],post_date[:-3]\n",
    "        print(k,len(trading_code), len(news_title), len(news), len(post_date))\n",
    "\n",
    "        with open(f\"{year_no}/{k}.txt\", \"w\",encoding=\"utf-8\") as f:\n",
    "            f.write(\"No, Trading Code, News Title, News, Post Date\\n\")\n",
    "            for i, t, nt, n, p in zip(range(1, len(trading_code)+1), trading_code, news_title, news, post_date):\n",
    "                f.write(f\"{i}, {t}, {nt}, {n}, {p}\")\n",
    "                f.write('\\n')\n",
    "    \n"
   ]
  },
  {
   "cell_type": "code",
   "execution_count": 9,
   "id": "bb23c2eb",
   "metadata": {},
   "outputs": [
    {
     "name": "stdout",
     "output_type": "stream",
     "text": [
      "January 0 0 0 1\n",
      "February 0 0 0 1\n",
      "March 0 0 0 1\n",
      "April 0 0 0 1\n",
      "May 0 0 0 1\n",
      "June 0 0 0 1\n",
      "July 0 0 0 1\n",
      "August 0 0 0 1\n",
      "September 1117 1117 1117 1117\n",
      "October 2882 2882 2882 2882\n",
      "November 5254 5254 5254 5254\n",
      "December 6275 6275 6275 6275\n",
      "January 1211 1211 1211 1211\n",
      "February 929 929 929 929\n",
      "March 826 826 826 826\n",
      "April 1044 1044 1044 1044\n",
      "May 1343 1343 1343 1343\n",
      "June 1240 1240 1240 1240\n",
      "July 794 794 794 794\n",
      "August 934 934 934 934\n",
      "September 1361 1361 1361 1361\n",
      "October 1676 1676 1676 1676\n",
      "November 2379 2379 2379 2379\n",
      "December 1445 1445 1445 1445\n",
      "January 1428 1428 1428 1428\n",
      "February 1062 1062 1062 1062\n",
      "March 1201 1201 1201 1201\n",
      "April 1746 1746 1746 1746\n",
      "May 1293 1293 1293 1293\n",
      "June 983 983 983 983\n",
      "July 801 801 801 801\n",
      "August 892 892 892 892\n",
      "September 53 53 53 53\n",
      "October 0 0 0 1\n",
      "November 0 0 0 1\n",
      "December 0 0 0 1\n"
     ]
    }
   ],
   "source": [
    "year_list=[2020,2021,2022]\n",
    "for i in year_list:\n",
    "    textFileGenerator(i)\n"
   ]
  },
  {
   "cell_type": "code",
   "execution_count": null,
   "id": "8a41a0ac",
   "metadata": {},
   "outputs": [],
   "source": []
  }
 ],
 "metadata": {
  "kernelspec": {
   "display_name": "Python 3 (ipykernel)",
   "language": "python",
   "name": "python3"
  },
  "language_info": {
   "codemirror_mode": {
    "name": "ipython",
    "version": 3
   },
   "file_extension": ".py",
   "mimetype": "text/x-python",
   "name": "python",
   "nbconvert_exporter": "python",
   "pygments_lexer": "ipython3",
   "version": "3.9.12"
  }
 },
 "nbformat": 4,
 "nbformat_minor": 5
}
