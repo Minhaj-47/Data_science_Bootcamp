{
 "cells": [
  {
   "cell_type": "code",
   "execution_count": 219,
   "id": "f8f59676",
   "metadata": {},
   "outputs": [],
   "source": [
    "from selenium import webdriver\n",
    "from selenium.webdriver.common.keys import Keys\n",
    "from selenium.webdriver.common.by import By\n",
    "from selenium.webdriver.chrome.service import Service\n",
    "from selenium.webdriver.support.ui import WebDriverWait\n",
    "from selenium.webdriver.support import expected_conditions as EC\n",
    "from IPython.display import display,clear_output\n",
    "\n",
    "import requests\n",
    "import time\n",
    "from requests_html import HTMLSession\n",
    "from PIL import Image\n",
    "from io import BytesIO\n"
   ]
  },
  {
   "cell_type": "code",
   "execution_count": 2,
   "id": "00ab62b7",
   "metadata": {},
   "outputs": [],
   "source": [
    "#creating a new driver\n",
    "s=Service('E:\\datascienceBootcamp/chromedriver')\n",
    "driver=webdriver.Chrome(service=s)"
   ]
  },
  {
   "cell_type": "code",
   "execution_count": 20,
   "id": "5aaf2161",
   "metadata": {},
   "outputs": [],
   "source": [
    "#fetching airbnb beach link\n",
    "driver.get(\"https://www.airbnb.com/?tab_id=home_tab&refinement_paths%5B%5D=%2Fhomes&search_mode=flex_destinations_search&flexible_trip_lengths%5B%5D=one_week&location_search=MIN_MAP_BOUNDS&price_filter_input_type=0&category_tag=Tag%3A7769&search_type=category_change\")"
   ]
  },
  {
   "cell_type": "code",
   "execution_count": 21,
   "id": "f20ddd2b",
   "metadata": {},
   "outputs": [],
   "source": [
    "def scroll_window():\n",
    "#     total_height = int(driver.execute_script(\"return document.body.scrollHeight\"))\n",
    "    total_height = 33000\n",
    "\n",
    "    for i in range(1, total_height, 700):\n",
    "        driver.execute_script(\"window.scrollTo(0, {});\".format(i))\n",
    "        time.sleep(3)\n",
    "\n",
    "        \n",
    "        "
   ]
  },
  {
   "cell_type": "code",
   "execution_count": 23,
   "id": "132dbee2",
   "metadata": {},
   "outputs": [
    {
     "name": "stdout",
     "output_type": "stream",
     "text": [
      "223\n"
     ]
    }
   ],
   "source": [
    "#collect all the destination links and store them in a file\n",
    "scroll_window()\n",
    "time.sleep(3)\n",
    "destinations_link=driver.find_elements(by=By.CLASS_NAME,value=\"ln2bl2p\")\n",
    "print(len(destinations_link))\n",
    "with open(\"destinations.txt\",\"w\") as f:\n",
    "    for i in destinations_link:\n",
    "        f.write(i.get_attribute('href'))\n",
    "        f.write(\"\\n\")"
   ]
  },
  {
   "cell_type": "code",
   "execution_count": null,
   "id": "1f0f798b",
   "metadata": {},
   "outputs": [],
   "source": []
  },
  {
   "cell_type": "code",
   "execution_count": null,
   "id": "5ba1dcba",
   "metadata": {},
   "outputs": [],
   "source": []
  },
  {
   "cell_type": "code",
   "execution_count": null,
   "id": "11686593",
   "metadata": {},
   "outputs": [],
   "source": [
    "\n",
    "\n",
    "# scrollable_popup = driver.find_elements(by=By.CLASS_NAME,value=\"bk5zv5c\")[23]\n",
    "# for i in range(5):\n",
    "#     driver.execute_script(\"argument[0].scrollTop=argument[0].scrollHeight\",scrollable_popup)\n",
    "#     time.sleep(2)"
   ]
  },
  {
   "cell_type": "code",
   "execution_count": null,
   "id": "75c78553",
   "metadata": {},
   "outputs": [],
   "source": []
  },
  {
   "cell_type": "code",
   "execution_count": null,
   "id": "8b5422a6",
   "metadata": {},
   "outputs": [],
   "source": []
  },
  {
   "cell_type": "code",
   "execution_count": null,
   "id": "60a81895",
   "metadata": {},
   "outputs": [],
   "source": []
  },
  {
   "cell_type": "markdown",
   "id": "0d7606c2",
   "metadata": {},
   "source": [
    "## functions for individual destination link"
   ]
  },
  {
   "cell_type": "code",
   "execution_count": 5,
   "id": "502ef342",
   "metadata": {},
   "outputs": [],
   "source": [
    "#function for destination title\n",
    "def titleHeading(driver):\n",
    "    try:\n",
    "        title=driver.find_element(by=By.CLASS_NAME,value=\"_fecoyn4\").text\n",
    "        print(\"title\",title)\n",
    "        return title\n",
    "    except:\n",
    "        print(\"destination not found , may be link is broken\")\n",
    "        return None"
   ]
  },
  {
   "cell_type": "code",
   "execution_count": 6,
   "id": "7c5100e6",
   "metadata": {},
   "outputs": [],
   "source": [
    "#function for destination rating\n",
    "def placeRating(driver):\n",
    "    try:\n",
    "        rating=driver.find_element(by=By.CLASS_NAME,value=\"_17p6nbba\").text\n",
    "        print(\"rating\",rating)\n",
    "        return rating\n",
    "    except:\n",
    "        print(\"destination not found , may be link is broken\")\n",
    "        return None"
   ]
  },
  {
   "cell_type": "code",
   "execution_count": 7,
   "id": "25934135",
   "metadata": {},
   "outputs": [],
   "source": [
    "#function for destination total reviews\n",
    "def placeTotalReviw(driver):\n",
    "    try:\n",
    "        reviewNumber=driver.find_element(by=By.CLASS_NAME,value=\"_11eqlma4\").text\n",
    "        print(\"total_reviews\",reviewNumber)\n",
    "        return reviewNumber\n",
    "    except:\n",
    "        print(\"destination not found , may be link is broken\")\n",
    "        return None"
   ]
  },
  {
   "cell_type": "code",
   "execution_count": 8,
   "id": "cf6b6d23",
   "metadata": {},
   "outputs": [],
   "source": [
    "#function for destination location\n",
    "def placeLocation(driver):\n",
    "    try:\n",
    "        location=driver.find_element(by=By.CLASS_NAME,value=\"_9xiloll\").text\n",
    "        print(\"Location\",location)\n",
    "        return location\n",
    "    except:\n",
    "        print(\"destination not found , may be link is broken\")\n",
    "        return None"
   ]
  },
  {
   "cell_type": "code",
   "execution_count": 198,
   "id": "0fe62476",
   "metadata": {},
   "outputs": [],
   "source": [
    "#function for destination price\n",
    "def placeRent(driver):\n",
    "    try:\n",
    "        time.sleep(3)\n",
    "        rent=driver.find_element(by=By.XPATH,value=\"//*/div/div[1]/div[3]/div/div[2]/div/div/div[1]/div/div/div/div/div/div/div[1]/div[1]/div[1]/div/span/div/span[1]\").text\n",
    "        print(\"Place_rent\",rent)\n",
    "        return rent\n",
    "    except:\n",
    "        print(\"destination not found , may be link is broken\")\n",
    "        return None"
   ]
  },
  {
   "cell_type": "code",
   "execution_count": 292,
   "id": "b471cf3e",
   "metadata": {},
   "outputs": [],
   "source": [
    "#function for destination description\n",
    "def placeDescription(driver):\n",
    "    try:\n",
    "        if(show_more_click(driver,\"desc\")==True):\n",
    "            time.sleep(3)\n",
    "            description =WebDriverWait(driver, 20).until(EC.visibility_of_element_located((By.XPATH, \"/html/body/div[11]/section/div/div/div[2]/div/div[2]/div/div/div/div/div/div/div/div/section\"))).text\n",
    "            driver.back()\n",
    "        else:\n",
    "            description=driver.find_element(by=By.XPATH,value=\"//*/div/div[1]/div[3]/div/div[1]/div/div[4]/div/div[2]/div/span/span\").text        \n",
    "#         driver.refresh()\n",
    "        print(\"Place_description\",description)\n",
    "        return description\n",
    "    except:\n",
    "        print(\"destination not found , may be link is broken\")\n",
    "        return None"
   ]
  },
  {
   "cell_type": "code",
   "execution_count": 51,
   "id": "3b8a0305",
   "metadata": {},
   "outputs": [],
   "source": [
    "#function for destination offers\n",
    "def placeOffers(driver):\n",
    "    try:\n",
    "        show_more_click(driver,\"feature\")\n",
    "        time.sleep(5)\n",
    "        \n",
    "        offers =WebDriverWait(driver, 20).until(EC.visibility_of_element_located((By.XPATH, \"/html/body/div[11]/section/div/div/div[2]/div/div[3]/div/div/div/div/section\"))).text\n",
    "        driver.back()\n",
    "#         driver.refresh()\n",
    "        print(\"Place_offers\",offers)\n",
    "        return offers\n",
    "    except:\n",
    "        print(\"destination not found , may be link is broken\")\n",
    "        return None"
   ]
  },
  {
   "cell_type": "code",
   "execution_count": 291,
   "id": "1803910e",
   "metadata": {},
   "outputs": [],
   "source": [
    "# function for show more click\n",
    "def show_more_click(driver,specify):\n",
    "#     print(type(specify))\n",
    "#     print(specify==\"desc\")\n",
    "    try:\n",
    "        if specify==\"img\":\n",
    "            driver.find_element(by=By.CLASS_NAME,value=\"_uhxsfg\").click()\n",
    "        elif specify==\"desc\":\n",
    "            driver.find_element(by=By.XPATH,value=\"//*/div/div[1]/div[3]/div/div[1]/div/div[5]/div/div/div[2]/button/span/span[1]\").click()\n",
    "        elif specify==\"feature\":\n",
    "            driver.find_element(by=By.CLASS_NAME,value=\"b65jmrv\").click()\n",
    "        return True\n",
    "    except:\n",
    "        print(\"no show more button\")\n",
    "        return False"
   ]
  },
  {
   "cell_type": "code",
   "execution_count": null,
   "id": "233f40c1",
   "metadata": {},
   "outputs": [],
   "source": []
  },
  {
   "cell_type": "code",
   "execution_count": 237,
   "id": "4dce924e",
   "metadata": {},
   "outputs": [],
   "source": [
    "#function for destination reviews\n",
    "def placeReviews(driver):\n",
    "    try:\n",
    "        reviews=driver.find_elements(by=By.CLASS_NAME,value=\"r1rl3yjt\")\n",
    "#         print(len(reviewss))\n",
    "        review_text=[\" \".join(i.text.split(\"\\n\")) for i in reviews]\n",
    "        Reviews=\" \".join(review_text)\n",
    "        print(\"reviews\",Reviews)\n",
    "        return Reviews\n",
    "    except:\n",
    "        print(\"destination not found , may be link is broken\")\n",
    "        return None"
   ]
  },
  {
   "cell_type": "code",
   "execution_count": null,
   "id": "9bc47089",
   "metadata": {},
   "outputs": [],
   "source": []
  },
  {
   "cell_type": "code",
   "execution_count": 339,
   "id": "c47a5e4b",
   "metadata": {},
   "outputs": [],
   "source": [
    "#open driver\n",
    "def openDriver():\n",
    "    op=webdriver.ChromeOptions()\n",
    "    op.add_argument(\"headless\")\n",
    "    s=Service('E:\\datascienceBootcamp/chromedriver')\n",
    "    driver=webdriver.Chrome(service=s,options=op)\n",
    "    return driver"
   ]
  },
  {
   "cell_type": "code",
   "execution_count": 319,
   "id": "31062eaf",
   "metadata": {},
   "outputs": [],
   "source": [
    "#function for homepage img scrapping\n",
    "def pics_scrap(driver,category):\n",
    "    time.sleep(3)\n",
    "    images=driver.find_element(by=By.CLASS_NAME,value=\"_88xxct\")\n",
    "    time.sleep(2)\n",
    "    img_names=[]\n",
    "    imageUrls=[]\n",
    "    title=attachTitle(driver)\n",
    "    counter=0\n",
    "    for img in images.find_elements(by=By.TAG_NAME,value='img')[:5]:\n",
    "        img_urls = img.get_attribute('src')\n",
    "        print(img_urls)\n",
    "        imageUrls.append(img_urls)\n",
    "        #     removing point (.) as this point causing a problem in saving the picture\n",
    "        removingPoint=(\"/\".join(img_urls.split(\"/\")[-1:])).split('.')[:-1]\n",
    "        img_urls_firstname = \" \".join(removingPoint[0].split(\" \"))\n",
    "        img_urls_rename= f\"{title}/\"+img_urls_firstname\n",
    "        #             print(img_urls_rename)\n",
    "        img_name = \"@\".join(img_urls_rename.split('/'))\n",
    "        img_names.append(img_name)\n",
    "#         if img_urls.mode != 'RGB':\n",
    "#             img_urls = img_urls.convert('RGB')\n",
    "        r = requests.get(img_urls)\n",
    "        i = Image.open(BytesIO(r.content))\n",
    "        if i.mode != 'RGB':\n",
    "            i = i.convert('RGB')\n",
    "        i.save(f\"img/{category}/{img_name}.jpg\")\n",
    "        counter+=1\n",
    "        print(img_name)\n",
    "#     print(img_names)\n",
    "    return img_names"
   ]
  },
  {
   "cell_type": "code",
   "execution_count": 311,
   "id": "def52cc5",
   "metadata": {},
   "outputs": [],
   "source": [
    "#getting the titles for attaching with the picture name\n",
    "def attachTitle(driver):\n",
    "    try:\n",
    "        Title=driver.find_element(by=By.XPATH,value=\"//*/div/div[1]/div[6]/div/div/div/div[2]/div/section/div[1]/div[2]/h2\").text\n",
    "        Title=\"_\".join(Title.split(\" \"))\n",
    "        return Title\n",
    "    except:\n",
    "        print(\"nothing found\")\n",
    "        return None"
   ]
  },
  {
   "cell_type": "code",
   "execution_count": 238,
   "id": "b1c5239a",
   "metadata": {},
   "outputs": [],
   "source": [
    "#function for single product scrapping\n",
    "def product_scrap(driver,url,category):\n",
    "    driver.get(url)\n",
    "    time.sleep(5)\n",
    "    #single page data scrapping\n",
    "    title=titleHeading(driver)\n",
    "    #place rating\n",
    "    rating=placeRating(driver)\n",
    "    #place total review\n",
    "    total_review=placeTotalReviw(driver)\n",
    "    #place rent\n",
    "    rent=placeRent(driver)\n",
    "#     place location\n",
    "    location=placeLocation(driver)\n",
    "    #place descriptio\n",
    "    description=placeDescription(driver)\n",
    "    #place extra feature\n",
    "    time.sleep(2)\n",
    "    extra_offers=placeOffers(driver)\n",
    "    #all reviews of the place\n",
    "    time.sleep(2)\n",
    "    reviews=placeReviews(driver)\n",
    "    time.sleep(2)\n",
    "    #all images\n",
    "    imageName=pics_scrap(driver,category)\n",
    "    time.sleep(2)\n",
    "    return title,rating,total_review,rent,location,description,extra_offers,reviews,imageName"
   ]
  },
  {
   "cell_type": "code",
   "execution_count": 340,
   "id": "c9937186",
   "metadata": {
    "collapsed": true
   },
   "outputs": [
    {
     "name": "stdout",
     "output_type": "stream",
     "text": [
      "40 https://www.airbnb.com/rooms/574974693785033746?adults=1&category_tag=Tag%3A7769&children=0&infants=0&search_mode=flex_destinations_search&check_in=2022-09-15&check_out=2022-09-20&previous_page_section_name=1000&federated_search_id=a8cf8923-1908-49aa-925c-e771522abec9\n",
      "\n",
      "title Deluxe Twin in Nana Beach Cha Am\n",
      "destination not found , may be link is broken\n",
      "total_reviews Hua Hin, Prachuap Khiri Khan, Thailand\n",
      "Place_rent $19\n",
      "Location Hua Hin, Prachuap Khiri Khan, Thailand\n",
      "no show more button\n",
      "Place_description Relax, re-charge your batteries and feel like home in a modern, clean, tastefully furnished and safe accommodation situated in Hua Hin City.\n",
      "The unit covers a wide range of amenities like,daily housekeeping, Parking Facility, fire extinguisher, Geyser, Power backup, Seating Area, Modern Wardrobe,Ac,Private Entrance, Tv, Refrigerator,Coffee/Tea Maker,In-house Restaurant,and CCTV Cameras in public areas.\n",
      "\n",
      "\n",
      "OYO 394 Nana Beach Cha-Am is located on Ruamchit Road in Cha-Am district. The property is a one-minute walk from Cha-Am Beach. Other nearby tourist attractions include King Naresuan Monument and Wat Neranchararam.\n",
      "\n",
      "Special Features\n",
      "This property features clean and well-maintained rooms that are adequately furnished. The place has a welcoming ambience that is suitable for guests of all ages. The air-conditioned rooms are equipped with an array of modern amenities. An indoor swimming pool is also available at this stay. Guests can relish freshly prepared meals at the in-house restaurant.\n",
      "\n",
      "Facilities\n",
      "The property has necessary amenities, such as TVs with cable channels, refrigerators, hairdryers and centre tables. Also, it offers free Wi-Fi connectivity, CCTV security and daily housekeeping. Guests can check-in 24x7 at this stay and also use the private entrance to access their rooms. Also, guests can avail the free parking facility.\n",
      "\n",
      "Nearby\n",
      "Guests can enjoy fresh seafood delicacies at nearby eateries, such as Mr. Guy Cha-am, Kong Samut Kitchen, Dao Talay Seafood Restaurant, Khrua Met Sai Seafood, Chai Le Seafood and Khrua Khai Muk. For shopping in this area, travellers can visit places like Saphan Pla Cha-am and Big C Market.\n",
      "Place_offers What this place offers\n",
      "Entertainment\n",
      "TV\n",
      "Heating and cooling\n",
      "Air conditioning\n",
      "Home safety\n",
      "Security cameras on property\n",
      "Smoke alarm\n",
      "Carbon monoxide alarm\n",
      "Fire extinguisher\n",
      "First aid kit\n",
      "Internet and office\n",
      "Wifi\n",
      "Dedicated workspace\n",
      "Services\n",
      "Long term stays allowed\n",
      "Allow stay for 28 days or more\n",
      "Not included\n",
      "Unavailable: Kitchen\n",
      "Kitchen\n",
      "Unavailable: Washer\n",
      "Washer\n",
      "Unavailable: Hair dryer\n",
      "Hair dryer\n",
      "Unavailable: Essentials\n",
      "Essentials\n",
      "Unavailable: Shampoo\n",
      "Shampoo\n",
      "Unavailable: Private entrance\n",
      "Private entrance\n",
      "Unavailable: Heating\n",
      "Heating\n",
      "reviews \n",
      "https://a0.muscache.com/im/pictures/miso/Hosting-574974693785033746/original/db95c9b6-06bf-4bcf-ab7b-0e3e91ed385c.jpeg?im_w=720\n",
      "Hosted_by_Oyo@db95c9b6-06bf-4bcf-ab7b-0e3e91ed385c\n",
      "https://a0.muscache.com/im/pictures/miso/Hosting-574974693785033746/original/46df7257-5acc-49e5-87f2-ebc650ad44d0.jpeg?im_w=720\n"
     ]
    },
    {
     "ename": "ConnectionError",
     "evalue": "('Connection aborted.', RemoteDisconnected('Remote end closed connection without response'))",
     "output_type": "error",
     "traceback": [
      "\u001b[1;31m---------------------------------------------------------------------------\u001b[0m",
      "\u001b[1;31mRemoteDisconnected\u001b[0m                        Traceback (most recent call last)",
      "File \u001b[1;32m~\\anaconda\\lib\\site-packages\\urllib3\\connectionpool.py:703\u001b[0m, in \u001b[0;36mHTTPConnectionPool.urlopen\u001b[1;34m(self, method, url, body, headers, retries, redirect, assert_same_host, timeout, pool_timeout, release_conn, chunked, body_pos, **response_kw)\u001b[0m\n\u001b[0;32m    702\u001b[0m \u001b[38;5;66;03m# Make the request on the httplib connection object.\u001b[39;00m\n\u001b[1;32m--> 703\u001b[0m httplib_response \u001b[38;5;241m=\u001b[39m \u001b[38;5;28;43mself\u001b[39;49m\u001b[38;5;241;43m.\u001b[39;49m\u001b[43m_make_request\u001b[49m\u001b[43m(\u001b[49m\n\u001b[0;32m    704\u001b[0m \u001b[43m    \u001b[49m\u001b[43mconn\u001b[49m\u001b[43m,\u001b[49m\n\u001b[0;32m    705\u001b[0m \u001b[43m    \u001b[49m\u001b[43mmethod\u001b[49m\u001b[43m,\u001b[49m\n\u001b[0;32m    706\u001b[0m \u001b[43m    \u001b[49m\u001b[43murl\u001b[49m\u001b[43m,\u001b[49m\n\u001b[0;32m    707\u001b[0m \u001b[43m    \u001b[49m\u001b[43mtimeout\u001b[49m\u001b[38;5;241;43m=\u001b[39;49m\u001b[43mtimeout_obj\u001b[49m\u001b[43m,\u001b[49m\n\u001b[0;32m    708\u001b[0m \u001b[43m    \u001b[49m\u001b[43mbody\u001b[49m\u001b[38;5;241;43m=\u001b[39;49m\u001b[43mbody\u001b[49m\u001b[43m,\u001b[49m\n\u001b[0;32m    709\u001b[0m \u001b[43m    \u001b[49m\u001b[43mheaders\u001b[49m\u001b[38;5;241;43m=\u001b[39;49m\u001b[43mheaders\u001b[49m\u001b[43m,\u001b[49m\n\u001b[0;32m    710\u001b[0m \u001b[43m    \u001b[49m\u001b[43mchunked\u001b[49m\u001b[38;5;241;43m=\u001b[39;49m\u001b[43mchunked\u001b[49m\u001b[43m,\u001b[49m\n\u001b[0;32m    711\u001b[0m \u001b[43m\u001b[49m\u001b[43m)\u001b[49m\n\u001b[0;32m    713\u001b[0m \u001b[38;5;66;03m# If we're going to release the connection in ``finally:``, then\u001b[39;00m\n\u001b[0;32m    714\u001b[0m \u001b[38;5;66;03m# the response doesn't need to know about the connection. Otherwise\u001b[39;00m\n\u001b[0;32m    715\u001b[0m \u001b[38;5;66;03m# it will also try to release it and we'll have a double-release\u001b[39;00m\n\u001b[0;32m    716\u001b[0m \u001b[38;5;66;03m# mess.\u001b[39;00m\n",
      "File \u001b[1;32m~\\anaconda\\lib\\site-packages\\urllib3\\connectionpool.py:449\u001b[0m, in \u001b[0;36mHTTPConnectionPool._make_request\u001b[1;34m(self, conn, method, url, timeout, chunked, **httplib_request_kw)\u001b[0m\n\u001b[0;32m    445\u001b[0m         \u001b[38;5;28;01mexcept\u001b[39;00m \u001b[38;5;167;01mBaseException\u001b[39;00m \u001b[38;5;28;01mas\u001b[39;00m e:\n\u001b[0;32m    446\u001b[0m             \u001b[38;5;66;03m# Remove the TypeError from the exception chain in\u001b[39;00m\n\u001b[0;32m    447\u001b[0m             \u001b[38;5;66;03m# Python 3 (including for exceptions like SystemExit).\u001b[39;00m\n\u001b[0;32m    448\u001b[0m             \u001b[38;5;66;03m# Otherwise it looks like a bug in the code.\u001b[39;00m\n\u001b[1;32m--> 449\u001b[0m             \u001b[43msix\u001b[49m\u001b[38;5;241;43m.\u001b[39;49m\u001b[43mraise_from\u001b[49m\u001b[43m(\u001b[49m\u001b[43me\u001b[49m\u001b[43m,\u001b[49m\u001b[43m \u001b[49m\u001b[38;5;28;43;01mNone\u001b[39;49;00m\u001b[43m)\u001b[49m\n\u001b[0;32m    450\u001b[0m \u001b[38;5;28;01mexcept\u001b[39;00m (SocketTimeout, BaseSSLError, SocketError) \u001b[38;5;28;01mas\u001b[39;00m e:\n",
      "File \u001b[1;32m<string>:3\u001b[0m, in \u001b[0;36mraise_from\u001b[1;34m(value, from_value)\u001b[0m\n",
      "File \u001b[1;32m~\\anaconda\\lib\\site-packages\\urllib3\\connectionpool.py:444\u001b[0m, in \u001b[0;36mHTTPConnectionPool._make_request\u001b[1;34m(self, conn, method, url, timeout, chunked, **httplib_request_kw)\u001b[0m\n\u001b[0;32m    443\u001b[0m \u001b[38;5;28;01mtry\u001b[39;00m:\n\u001b[1;32m--> 444\u001b[0m     httplib_response \u001b[38;5;241m=\u001b[39m \u001b[43mconn\u001b[49m\u001b[38;5;241;43m.\u001b[39;49m\u001b[43mgetresponse\u001b[49m\u001b[43m(\u001b[49m\u001b[43m)\u001b[49m\n\u001b[0;32m    445\u001b[0m \u001b[38;5;28;01mexcept\u001b[39;00m \u001b[38;5;167;01mBaseException\u001b[39;00m \u001b[38;5;28;01mas\u001b[39;00m e:\n\u001b[0;32m    446\u001b[0m     \u001b[38;5;66;03m# Remove the TypeError from the exception chain in\u001b[39;00m\n\u001b[0;32m    447\u001b[0m     \u001b[38;5;66;03m# Python 3 (including for exceptions like SystemExit).\u001b[39;00m\n\u001b[0;32m    448\u001b[0m     \u001b[38;5;66;03m# Otherwise it looks like a bug in the code.\u001b[39;00m\n",
      "File \u001b[1;32m~\\anaconda\\lib\\http\\client.py:1377\u001b[0m, in \u001b[0;36mHTTPConnection.getresponse\u001b[1;34m(self)\u001b[0m\n\u001b[0;32m   1376\u001b[0m \u001b[38;5;28;01mtry\u001b[39;00m:\n\u001b[1;32m-> 1377\u001b[0m     \u001b[43mresponse\u001b[49m\u001b[38;5;241;43m.\u001b[39;49m\u001b[43mbegin\u001b[49m\u001b[43m(\u001b[49m\u001b[43m)\u001b[49m\n\u001b[0;32m   1378\u001b[0m \u001b[38;5;28;01mexcept\u001b[39;00m \u001b[38;5;167;01mConnectionError\u001b[39;00m:\n",
      "File \u001b[1;32m~\\anaconda\\lib\\http\\client.py:320\u001b[0m, in \u001b[0;36mHTTPResponse.begin\u001b[1;34m(self)\u001b[0m\n\u001b[0;32m    319\u001b[0m \u001b[38;5;28;01mwhile\u001b[39;00m \u001b[38;5;28;01mTrue\u001b[39;00m:\n\u001b[1;32m--> 320\u001b[0m     version, status, reason \u001b[38;5;241m=\u001b[39m \u001b[38;5;28;43mself\u001b[39;49m\u001b[38;5;241;43m.\u001b[39;49m\u001b[43m_read_status\u001b[49m\u001b[43m(\u001b[49m\u001b[43m)\u001b[49m\n\u001b[0;32m    321\u001b[0m     \u001b[38;5;28;01mif\u001b[39;00m status \u001b[38;5;241m!=\u001b[39m CONTINUE:\n",
      "File \u001b[1;32m~\\anaconda\\lib\\http\\client.py:289\u001b[0m, in \u001b[0;36mHTTPResponse._read_status\u001b[1;34m(self)\u001b[0m\n\u001b[0;32m    286\u001b[0m \u001b[38;5;28;01mif\u001b[39;00m \u001b[38;5;129;01mnot\u001b[39;00m line:\n\u001b[0;32m    287\u001b[0m     \u001b[38;5;66;03m# Presumably, the server closed the connection before\u001b[39;00m\n\u001b[0;32m    288\u001b[0m     \u001b[38;5;66;03m# sending a valid response.\u001b[39;00m\n\u001b[1;32m--> 289\u001b[0m     \u001b[38;5;28;01mraise\u001b[39;00m RemoteDisconnected(\u001b[38;5;124m\"\u001b[39m\u001b[38;5;124mRemote end closed connection without\u001b[39m\u001b[38;5;124m\"\u001b[39m\n\u001b[0;32m    290\u001b[0m                              \u001b[38;5;124m\"\u001b[39m\u001b[38;5;124m response\u001b[39m\u001b[38;5;124m\"\u001b[39m)\n\u001b[0;32m    291\u001b[0m \u001b[38;5;28;01mtry\u001b[39;00m:\n",
      "\u001b[1;31mRemoteDisconnected\u001b[0m: Remote end closed connection without response",
      "\nDuring handling of the above exception, another exception occurred:\n",
      "\u001b[1;31mProtocolError\u001b[0m                             Traceback (most recent call last)",
      "File \u001b[1;32m~\\anaconda\\lib\\site-packages\\requests\\adapters.py:440\u001b[0m, in \u001b[0;36mHTTPAdapter.send\u001b[1;34m(self, request, stream, timeout, verify, cert, proxies)\u001b[0m\n\u001b[0;32m    439\u001b[0m \u001b[38;5;28;01mif\u001b[39;00m \u001b[38;5;129;01mnot\u001b[39;00m chunked:\n\u001b[1;32m--> 440\u001b[0m     resp \u001b[38;5;241m=\u001b[39m \u001b[43mconn\u001b[49m\u001b[38;5;241;43m.\u001b[39;49m\u001b[43murlopen\u001b[49m\u001b[43m(\u001b[49m\n\u001b[0;32m    441\u001b[0m \u001b[43m        \u001b[49m\u001b[43mmethod\u001b[49m\u001b[38;5;241;43m=\u001b[39;49m\u001b[43mrequest\u001b[49m\u001b[38;5;241;43m.\u001b[39;49m\u001b[43mmethod\u001b[49m\u001b[43m,\u001b[49m\n\u001b[0;32m    442\u001b[0m \u001b[43m        \u001b[49m\u001b[43murl\u001b[49m\u001b[38;5;241;43m=\u001b[39;49m\u001b[43murl\u001b[49m\u001b[43m,\u001b[49m\n\u001b[0;32m    443\u001b[0m \u001b[43m        \u001b[49m\u001b[43mbody\u001b[49m\u001b[38;5;241;43m=\u001b[39;49m\u001b[43mrequest\u001b[49m\u001b[38;5;241;43m.\u001b[39;49m\u001b[43mbody\u001b[49m\u001b[43m,\u001b[49m\n\u001b[0;32m    444\u001b[0m \u001b[43m        \u001b[49m\u001b[43mheaders\u001b[49m\u001b[38;5;241;43m=\u001b[39;49m\u001b[43mrequest\u001b[49m\u001b[38;5;241;43m.\u001b[39;49m\u001b[43mheaders\u001b[49m\u001b[43m,\u001b[49m\n\u001b[0;32m    445\u001b[0m \u001b[43m        \u001b[49m\u001b[43mredirect\u001b[49m\u001b[38;5;241;43m=\u001b[39;49m\u001b[38;5;28;43;01mFalse\u001b[39;49;00m\u001b[43m,\u001b[49m\n\u001b[0;32m    446\u001b[0m \u001b[43m        \u001b[49m\u001b[43massert_same_host\u001b[49m\u001b[38;5;241;43m=\u001b[39;49m\u001b[38;5;28;43;01mFalse\u001b[39;49;00m\u001b[43m,\u001b[49m\n\u001b[0;32m    447\u001b[0m \u001b[43m        \u001b[49m\u001b[43mpreload_content\u001b[49m\u001b[38;5;241;43m=\u001b[39;49m\u001b[38;5;28;43;01mFalse\u001b[39;49;00m\u001b[43m,\u001b[49m\n\u001b[0;32m    448\u001b[0m \u001b[43m        \u001b[49m\u001b[43mdecode_content\u001b[49m\u001b[38;5;241;43m=\u001b[39;49m\u001b[38;5;28;43;01mFalse\u001b[39;49;00m\u001b[43m,\u001b[49m\n\u001b[0;32m    449\u001b[0m \u001b[43m        \u001b[49m\u001b[43mretries\u001b[49m\u001b[38;5;241;43m=\u001b[39;49m\u001b[38;5;28;43mself\u001b[39;49m\u001b[38;5;241;43m.\u001b[39;49m\u001b[43mmax_retries\u001b[49m\u001b[43m,\u001b[49m\n\u001b[0;32m    450\u001b[0m \u001b[43m        \u001b[49m\u001b[43mtimeout\u001b[49m\u001b[38;5;241;43m=\u001b[39;49m\u001b[43mtimeout\u001b[49m\n\u001b[0;32m    451\u001b[0m \u001b[43m    \u001b[49m\u001b[43m)\u001b[49m\n\u001b[0;32m    453\u001b[0m \u001b[38;5;66;03m# Send the request.\u001b[39;00m\n\u001b[0;32m    454\u001b[0m \u001b[38;5;28;01melse\u001b[39;00m:\n",
      "File \u001b[1;32m~\\anaconda\\lib\\site-packages\\urllib3\\connectionpool.py:785\u001b[0m, in \u001b[0;36mHTTPConnectionPool.urlopen\u001b[1;34m(self, method, url, body, headers, retries, redirect, assert_same_host, timeout, pool_timeout, release_conn, chunked, body_pos, **response_kw)\u001b[0m\n\u001b[0;32m    783\u001b[0m     e \u001b[38;5;241m=\u001b[39m ProtocolError(\u001b[38;5;124m\"\u001b[39m\u001b[38;5;124mConnection aborted.\u001b[39m\u001b[38;5;124m\"\u001b[39m, e)\n\u001b[1;32m--> 785\u001b[0m retries \u001b[38;5;241m=\u001b[39m \u001b[43mretries\u001b[49m\u001b[38;5;241;43m.\u001b[39;49m\u001b[43mincrement\u001b[49m\u001b[43m(\u001b[49m\n\u001b[0;32m    786\u001b[0m \u001b[43m    \u001b[49m\u001b[43mmethod\u001b[49m\u001b[43m,\u001b[49m\u001b[43m \u001b[49m\u001b[43murl\u001b[49m\u001b[43m,\u001b[49m\u001b[43m \u001b[49m\u001b[43merror\u001b[49m\u001b[38;5;241;43m=\u001b[39;49m\u001b[43me\u001b[49m\u001b[43m,\u001b[49m\u001b[43m \u001b[49m\u001b[43m_pool\u001b[49m\u001b[38;5;241;43m=\u001b[39;49m\u001b[38;5;28;43mself\u001b[39;49m\u001b[43m,\u001b[49m\u001b[43m \u001b[49m\u001b[43m_stacktrace\u001b[49m\u001b[38;5;241;43m=\u001b[39;49m\u001b[43msys\u001b[49m\u001b[38;5;241;43m.\u001b[39;49m\u001b[43mexc_info\u001b[49m\u001b[43m(\u001b[49m\u001b[43m)\u001b[49m\u001b[43m[\u001b[49m\u001b[38;5;241;43m2\u001b[39;49m\u001b[43m]\u001b[49m\n\u001b[0;32m    787\u001b[0m \u001b[43m\u001b[49m\u001b[43m)\u001b[49m\n\u001b[0;32m    788\u001b[0m retries\u001b[38;5;241m.\u001b[39msleep()\n",
      "File \u001b[1;32m~\\anaconda\\lib\\site-packages\\urllib3\\util\\retry.py:550\u001b[0m, in \u001b[0;36mRetry.increment\u001b[1;34m(self, method, url, response, error, _pool, _stacktrace)\u001b[0m\n\u001b[0;32m    549\u001b[0m \u001b[38;5;28;01mif\u001b[39;00m read \u001b[38;5;129;01mis\u001b[39;00m \u001b[38;5;28;01mFalse\u001b[39;00m \u001b[38;5;129;01mor\u001b[39;00m \u001b[38;5;129;01mnot\u001b[39;00m \u001b[38;5;28mself\u001b[39m\u001b[38;5;241m.\u001b[39m_is_method_retryable(method):\n\u001b[1;32m--> 550\u001b[0m     \u001b[38;5;28;01mraise\u001b[39;00m \u001b[43msix\u001b[49m\u001b[38;5;241;43m.\u001b[39;49m\u001b[43mreraise\u001b[49m\u001b[43m(\u001b[49m\u001b[38;5;28;43mtype\u001b[39;49m\u001b[43m(\u001b[49m\u001b[43merror\u001b[49m\u001b[43m)\u001b[49m\u001b[43m,\u001b[49m\u001b[43m \u001b[49m\u001b[43merror\u001b[49m\u001b[43m,\u001b[49m\u001b[43m \u001b[49m\u001b[43m_stacktrace\u001b[49m\u001b[43m)\u001b[49m\n\u001b[0;32m    551\u001b[0m \u001b[38;5;28;01melif\u001b[39;00m read \u001b[38;5;129;01mis\u001b[39;00m \u001b[38;5;129;01mnot\u001b[39;00m \u001b[38;5;28;01mNone\u001b[39;00m:\n",
      "File \u001b[1;32m~\\anaconda\\lib\\site-packages\\urllib3\\packages\\six.py:769\u001b[0m, in \u001b[0;36mreraise\u001b[1;34m(tp, value, tb)\u001b[0m\n\u001b[0;32m    768\u001b[0m \u001b[38;5;28;01mif\u001b[39;00m value\u001b[38;5;241m.\u001b[39m__traceback__ \u001b[38;5;129;01mis\u001b[39;00m \u001b[38;5;129;01mnot\u001b[39;00m tb:\n\u001b[1;32m--> 769\u001b[0m     \u001b[38;5;28;01mraise\u001b[39;00m value\u001b[38;5;241m.\u001b[39mwith_traceback(tb)\n\u001b[0;32m    770\u001b[0m \u001b[38;5;28;01mraise\u001b[39;00m value\n",
      "File \u001b[1;32m~\\anaconda\\lib\\site-packages\\urllib3\\connectionpool.py:703\u001b[0m, in \u001b[0;36mHTTPConnectionPool.urlopen\u001b[1;34m(self, method, url, body, headers, retries, redirect, assert_same_host, timeout, pool_timeout, release_conn, chunked, body_pos, **response_kw)\u001b[0m\n\u001b[0;32m    702\u001b[0m \u001b[38;5;66;03m# Make the request on the httplib connection object.\u001b[39;00m\n\u001b[1;32m--> 703\u001b[0m httplib_response \u001b[38;5;241m=\u001b[39m \u001b[38;5;28;43mself\u001b[39;49m\u001b[38;5;241;43m.\u001b[39;49m\u001b[43m_make_request\u001b[49m\u001b[43m(\u001b[49m\n\u001b[0;32m    704\u001b[0m \u001b[43m    \u001b[49m\u001b[43mconn\u001b[49m\u001b[43m,\u001b[49m\n\u001b[0;32m    705\u001b[0m \u001b[43m    \u001b[49m\u001b[43mmethod\u001b[49m\u001b[43m,\u001b[49m\n\u001b[0;32m    706\u001b[0m \u001b[43m    \u001b[49m\u001b[43murl\u001b[49m\u001b[43m,\u001b[49m\n\u001b[0;32m    707\u001b[0m \u001b[43m    \u001b[49m\u001b[43mtimeout\u001b[49m\u001b[38;5;241;43m=\u001b[39;49m\u001b[43mtimeout_obj\u001b[49m\u001b[43m,\u001b[49m\n\u001b[0;32m    708\u001b[0m \u001b[43m    \u001b[49m\u001b[43mbody\u001b[49m\u001b[38;5;241;43m=\u001b[39;49m\u001b[43mbody\u001b[49m\u001b[43m,\u001b[49m\n\u001b[0;32m    709\u001b[0m \u001b[43m    \u001b[49m\u001b[43mheaders\u001b[49m\u001b[38;5;241;43m=\u001b[39;49m\u001b[43mheaders\u001b[49m\u001b[43m,\u001b[49m\n\u001b[0;32m    710\u001b[0m \u001b[43m    \u001b[49m\u001b[43mchunked\u001b[49m\u001b[38;5;241;43m=\u001b[39;49m\u001b[43mchunked\u001b[49m\u001b[43m,\u001b[49m\n\u001b[0;32m    711\u001b[0m \u001b[43m\u001b[49m\u001b[43m)\u001b[49m\n\u001b[0;32m    713\u001b[0m \u001b[38;5;66;03m# If we're going to release the connection in ``finally:``, then\u001b[39;00m\n\u001b[0;32m    714\u001b[0m \u001b[38;5;66;03m# the response doesn't need to know about the connection. Otherwise\u001b[39;00m\n\u001b[0;32m    715\u001b[0m \u001b[38;5;66;03m# it will also try to release it and we'll have a double-release\u001b[39;00m\n\u001b[0;32m    716\u001b[0m \u001b[38;5;66;03m# mess.\u001b[39;00m\n",
      "File \u001b[1;32m~\\anaconda\\lib\\site-packages\\urllib3\\connectionpool.py:449\u001b[0m, in \u001b[0;36mHTTPConnectionPool._make_request\u001b[1;34m(self, conn, method, url, timeout, chunked, **httplib_request_kw)\u001b[0m\n\u001b[0;32m    445\u001b[0m         \u001b[38;5;28;01mexcept\u001b[39;00m \u001b[38;5;167;01mBaseException\u001b[39;00m \u001b[38;5;28;01mas\u001b[39;00m e:\n\u001b[0;32m    446\u001b[0m             \u001b[38;5;66;03m# Remove the TypeError from the exception chain in\u001b[39;00m\n\u001b[0;32m    447\u001b[0m             \u001b[38;5;66;03m# Python 3 (including for exceptions like SystemExit).\u001b[39;00m\n\u001b[0;32m    448\u001b[0m             \u001b[38;5;66;03m# Otherwise it looks like a bug in the code.\u001b[39;00m\n\u001b[1;32m--> 449\u001b[0m             \u001b[43msix\u001b[49m\u001b[38;5;241;43m.\u001b[39;49m\u001b[43mraise_from\u001b[49m\u001b[43m(\u001b[49m\u001b[43me\u001b[49m\u001b[43m,\u001b[49m\u001b[43m \u001b[49m\u001b[38;5;28;43;01mNone\u001b[39;49;00m\u001b[43m)\u001b[49m\n\u001b[0;32m    450\u001b[0m \u001b[38;5;28;01mexcept\u001b[39;00m (SocketTimeout, BaseSSLError, SocketError) \u001b[38;5;28;01mas\u001b[39;00m e:\n",
      "File \u001b[1;32m<string>:3\u001b[0m, in \u001b[0;36mraise_from\u001b[1;34m(value, from_value)\u001b[0m\n",
      "File \u001b[1;32m~\\anaconda\\lib\\site-packages\\urllib3\\connectionpool.py:444\u001b[0m, in \u001b[0;36mHTTPConnectionPool._make_request\u001b[1;34m(self, conn, method, url, timeout, chunked, **httplib_request_kw)\u001b[0m\n\u001b[0;32m    443\u001b[0m \u001b[38;5;28;01mtry\u001b[39;00m:\n\u001b[1;32m--> 444\u001b[0m     httplib_response \u001b[38;5;241m=\u001b[39m \u001b[43mconn\u001b[49m\u001b[38;5;241;43m.\u001b[39;49m\u001b[43mgetresponse\u001b[49m\u001b[43m(\u001b[49m\u001b[43m)\u001b[49m\n\u001b[0;32m    445\u001b[0m \u001b[38;5;28;01mexcept\u001b[39;00m \u001b[38;5;167;01mBaseException\u001b[39;00m \u001b[38;5;28;01mas\u001b[39;00m e:\n\u001b[0;32m    446\u001b[0m     \u001b[38;5;66;03m# Remove the TypeError from the exception chain in\u001b[39;00m\n\u001b[0;32m    447\u001b[0m     \u001b[38;5;66;03m# Python 3 (including for exceptions like SystemExit).\u001b[39;00m\n\u001b[0;32m    448\u001b[0m     \u001b[38;5;66;03m# Otherwise it looks like a bug in the code.\u001b[39;00m\n",
      "File \u001b[1;32m~\\anaconda\\lib\\http\\client.py:1377\u001b[0m, in \u001b[0;36mHTTPConnection.getresponse\u001b[1;34m(self)\u001b[0m\n\u001b[0;32m   1376\u001b[0m \u001b[38;5;28;01mtry\u001b[39;00m:\n\u001b[1;32m-> 1377\u001b[0m     \u001b[43mresponse\u001b[49m\u001b[38;5;241;43m.\u001b[39;49m\u001b[43mbegin\u001b[49m\u001b[43m(\u001b[49m\u001b[43m)\u001b[49m\n\u001b[0;32m   1378\u001b[0m \u001b[38;5;28;01mexcept\u001b[39;00m \u001b[38;5;167;01mConnectionError\u001b[39;00m:\n",
      "File \u001b[1;32m~\\anaconda\\lib\\http\\client.py:320\u001b[0m, in \u001b[0;36mHTTPResponse.begin\u001b[1;34m(self)\u001b[0m\n\u001b[0;32m    319\u001b[0m \u001b[38;5;28;01mwhile\u001b[39;00m \u001b[38;5;28;01mTrue\u001b[39;00m:\n\u001b[1;32m--> 320\u001b[0m     version, status, reason \u001b[38;5;241m=\u001b[39m \u001b[38;5;28;43mself\u001b[39;49m\u001b[38;5;241;43m.\u001b[39;49m\u001b[43m_read_status\u001b[49m\u001b[43m(\u001b[49m\u001b[43m)\u001b[49m\n\u001b[0;32m    321\u001b[0m     \u001b[38;5;28;01mif\u001b[39;00m status \u001b[38;5;241m!=\u001b[39m CONTINUE:\n",
      "File \u001b[1;32m~\\anaconda\\lib\\http\\client.py:289\u001b[0m, in \u001b[0;36mHTTPResponse._read_status\u001b[1;34m(self)\u001b[0m\n\u001b[0;32m    286\u001b[0m \u001b[38;5;28;01mif\u001b[39;00m \u001b[38;5;129;01mnot\u001b[39;00m line:\n\u001b[0;32m    287\u001b[0m     \u001b[38;5;66;03m# Presumably, the server closed the connection before\u001b[39;00m\n\u001b[0;32m    288\u001b[0m     \u001b[38;5;66;03m# sending a valid response.\u001b[39;00m\n\u001b[1;32m--> 289\u001b[0m     \u001b[38;5;28;01mraise\u001b[39;00m RemoteDisconnected(\u001b[38;5;124m\"\u001b[39m\u001b[38;5;124mRemote end closed connection without\u001b[39m\u001b[38;5;124m\"\u001b[39m\n\u001b[0;32m    290\u001b[0m                              \u001b[38;5;124m\"\u001b[39m\u001b[38;5;124m response\u001b[39m\u001b[38;5;124m\"\u001b[39m)\n\u001b[0;32m    291\u001b[0m \u001b[38;5;28;01mtry\u001b[39;00m:\n",
      "\u001b[1;31mProtocolError\u001b[0m: ('Connection aborted.', RemoteDisconnected('Remote end closed connection without response'))",
      "\nDuring handling of the above exception, another exception occurred:\n",
      "\u001b[1;31mConnectionError\u001b[0m                           Traceback (most recent call last)",
      "Input \u001b[1;32mIn [340]\u001b[0m, in \u001b[0;36m<cell line: 2>\u001b[1;34m()\u001b[0m\n\u001b[0;32m      5\u001b[0m airbnb_scrap_partwise(\u001b[38;5;241m0\u001b[39m,\u001b[38;5;241m98\u001b[39m,titles,ratings,total_reviews,rents,locations,descriptions,Extra_offers,Reviews,imageNames)\n\u001b[0;32m      6\u001b[0m time\u001b[38;5;241m.\u001b[39msleep(\u001b[38;5;241m30\u001b[39m)\n\u001b[1;32m----> 7\u001b[0m \u001b[43mairbnb_scrap_partwise\u001b[49m\u001b[43m(\u001b[49m\u001b[38;5;241;43m99\u001b[39;49m\u001b[43m,\u001b[49m\u001b[38;5;241;43m180\u001b[39;49m\u001b[43m,\u001b[49m\u001b[43mtitles\u001b[49m\u001b[43m,\u001b[49m\u001b[43mratings\u001b[49m\u001b[43m,\u001b[49m\u001b[43mtotal_reviews\u001b[49m\u001b[43m,\u001b[49m\u001b[43mrents\u001b[49m\u001b[43m,\u001b[49m\u001b[43mlocations\u001b[49m\u001b[43m,\u001b[49m\u001b[43mdescriptions\u001b[49m\u001b[43m,\u001b[49m\u001b[43mExtra_offers\u001b[49m\u001b[43m,\u001b[49m\u001b[43mReviews\u001b[49m\u001b[43m,\u001b[49m\u001b[43mimageNames\u001b[49m\u001b[43m)\u001b[49m\n\u001b[0;32m      8\u001b[0m time\u001b[38;5;241m.\u001b[39msleep(\u001b[38;5;241m30\u001b[39m)\n\u001b[0;32m      9\u001b[0m airbnb_scrap_partwise(\u001b[38;5;241m181\u001b[39m,\u001b[38;5;241m224\u001b[39m,titles,ratings,total_reviews,rents,locations,descriptions,Extra_offers,Reviews,imageNames)\n",
      "Input \u001b[1;32mIn [337]\u001b[0m, in \u001b[0;36mairbnb_scrap_partwise\u001b[1;34m(num1, num2, titles, ratings, total_reviews, rents, locations, descriptions, Extra_offers, Reviews, imageNames)\u001b[0m\n\u001b[0;32m      4\u001b[0m \u001b[38;5;28mprint\u001b[39m(cnt,s)\n\u001b[0;32m      5\u001b[0m driver\u001b[38;5;241m=\u001b[39mopenDriver()\n\u001b[1;32m----> 6\u001b[0m title,rating,total_review,rent,location,description,extra_offers,reviews,imageName\u001b[38;5;241m=\u001b[39m\u001b[43mproduct_scrap\u001b[49m\u001b[43m(\u001b[49m\u001b[43mdriver\u001b[49m\u001b[43m,\u001b[49m\u001b[43ms\u001b[49m\u001b[43m,\u001b[49m\u001b[43mcategory\u001b[49m\u001b[43m)\u001b[49m\n\u001b[0;32m      7\u001b[0m \u001b[38;5;28;01mif\u001b[39;00m title:\n\u001b[0;32m      8\u001b[0m     titles\u001b[38;5;241m.\u001b[39mappend(title)\n",
      "Input \u001b[1;32mIn [238]\u001b[0m, in \u001b[0;36mproduct_scrap\u001b[1;34m(driver, url, category)\u001b[0m\n\u001b[0;32m     23\u001b[0m time\u001b[38;5;241m.\u001b[39msleep(\u001b[38;5;241m2\u001b[39m)\n\u001b[0;32m     24\u001b[0m \u001b[38;5;66;03m#all images\u001b[39;00m\n\u001b[1;32m---> 25\u001b[0m imageName\u001b[38;5;241m=\u001b[39m\u001b[43mpics_scrap\u001b[49m\u001b[43m(\u001b[49m\u001b[43mdriver\u001b[49m\u001b[43m,\u001b[49m\u001b[43mcategory\u001b[49m\u001b[43m)\u001b[49m\n\u001b[0;32m     26\u001b[0m time\u001b[38;5;241m.\u001b[39msleep(\u001b[38;5;241m2\u001b[39m)\n\u001b[0;32m     27\u001b[0m \u001b[38;5;28;01mreturn\u001b[39;00m title,rating,total_review,rent,location,description,extra_offers,reviews,imageName\n",
      "Input \u001b[1;32mIn [319]\u001b[0m, in \u001b[0;36mpics_scrap\u001b[1;34m(driver, category)\u001b[0m\n\u001b[0;32m     20\u001b[0m         img_names\u001b[38;5;241m.\u001b[39mappend(img_name)\n\u001b[0;32m     21\u001b[0m \u001b[38;5;66;03m#         if img_urls.mode != 'RGB':\u001b[39;00m\n\u001b[0;32m     22\u001b[0m \u001b[38;5;66;03m#             img_urls = img_urls.convert('RGB')\u001b[39;00m\n\u001b[1;32m---> 23\u001b[0m         r \u001b[38;5;241m=\u001b[39m \u001b[43mrequests\u001b[49m\u001b[38;5;241;43m.\u001b[39;49m\u001b[43mget\u001b[49m\u001b[43m(\u001b[49m\u001b[43mimg_urls\u001b[49m\u001b[43m)\u001b[49m\n\u001b[0;32m     24\u001b[0m         i \u001b[38;5;241m=\u001b[39m Image\u001b[38;5;241m.\u001b[39mopen(BytesIO(r\u001b[38;5;241m.\u001b[39mcontent))\n\u001b[0;32m     25\u001b[0m         \u001b[38;5;28;01mif\u001b[39;00m i\u001b[38;5;241m.\u001b[39mmode \u001b[38;5;241m!=\u001b[39m \u001b[38;5;124m'\u001b[39m\u001b[38;5;124mRGB\u001b[39m\u001b[38;5;124m'\u001b[39m:\n",
      "File \u001b[1;32m~\\anaconda\\lib\\site-packages\\requests\\api.py:75\u001b[0m, in \u001b[0;36mget\u001b[1;34m(url, params, **kwargs)\u001b[0m\n\u001b[0;32m     64\u001b[0m \u001b[38;5;28;01mdef\u001b[39;00m \u001b[38;5;21mget\u001b[39m(url, params\u001b[38;5;241m=\u001b[39m\u001b[38;5;28;01mNone\u001b[39;00m, \u001b[38;5;241m*\u001b[39m\u001b[38;5;241m*\u001b[39mkwargs):\n\u001b[0;32m     65\u001b[0m     \u001b[38;5;124mr\u001b[39m\u001b[38;5;124;03m\"\"\"Sends a GET request.\u001b[39;00m\n\u001b[0;32m     66\u001b[0m \n\u001b[0;32m     67\u001b[0m \u001b[38;5;124;03m    :param url: URL for the new :class:`Request` object.\u001b[39;00m\n\u001b[1;32m   (...)\u001b[0m\n\u001b[0;32m     72\u001b[0m \u001b[38;5;124;03m    :rtype: requests.Response\u001b[39;00m\n\u001b[0;32m     73\u001b[0m \u001b[38;5;124;03m    \"\"\"\u001b[39;00m\n\u001b[1;32m---> 75\u001b[0m     \u001b[38;5;28;01mreturn\u001b[39;00m request(\u001b[38;5;124m'\u001b[39m\u001b[38;5;124mget\u001b[39m\u001b[38;5;124m'\u001b[39m, url, params\u001b[38;5;241m=\u001b[39mparams, \u001b[38;5;241m*\u001b[39m\u001b[38;5;241m*\u001b[39mkwargs)\n",
      "File \u001b[1;32m~\\anaconda\\lib\\site-packages\\requests\\api.py:61\u001b[0m, in \u001b[0;36mrequest\u001b[1;34m(method, url, **kwargs)\u001b[0m\n\u001b[0;32m     57\u001b[0m \u001b[38;5;66;03m# By using the 'with' statement we are sure the session is closed, thus we\u001b[39;00m\n\u001b[0;32m     58\u001b[0m \u001b[38;5;66;03m# avoid leaving sockets open which can trigger a ResourceWarning in some\u001b[39;00m\n\u001b[0;32m     59\u001b[0m \u001b[38;5;66;03m# cases, and look like a memory leak in others.\u001b[39;00m\n\u001b[0;32m     60\u001b[0m \u001b[38;5;28;01mwith\u001b[39;00m sessions\u001b[38;5;241m.\u001b[39mSession() \u001b[38;5;28;01mas\u001b[39;00m session:\n\u001b[1;32m---> 61\u001b[0m     \u001b[38;5;28;01mreturn\u001b[39;00m session\u001b[38;5;241m.\u001b[39mrequest(method\u001b[38;5;241m=\u001b[39mmethod, url\u001b[38;5;241m=\u001b[39murl, \u001b[38;5;241m*\u001b[39m\u001b[38;5;241m*\u001b[39mkwargs)\n",
      "File \u001b[1;32m~\\anaconda\\lib\\site-packages\\requests\\sessions.py:529\u001b[0m, in \u001b[0;36mSession.request\u001b[1;34m(self, method, url, params, data, headers, cookies, files, auth, timeout, allow_redirects, proxies, hooks, stream, verify, cert, json)\u001b[0m\n\u001b[0;32m    524\u001b[0m send_kwargs \u001b[38;5;241m=\u001b[39m {\n\u001b[0;32m    525\u001b[0m     \u001b[38;5;124m'\u001b[39m\u001b[38;5;124mtimeout\u001b[39m\u001b[38;5;124m'\u001b[39m: timeout,\n\u001b[0;32m    526\u001b[0m     \u001b[38;5;124m'\u001b[39m\u001b[38;5;124mallow_redirects\u001b[39m\u001b[38;5;124m'\u001b[39m: allow_redirects,\n\u001b[0;32m    527\u001b[0m }\n\u001b[0;32m    528\u001b[0m send_kwargs\u001b[38;5;241m.\u001b[39mupdate(settings)\n\u001b[1;32m--> 529\u001b[0m resp \u001b[38;5;241m=\u001b[39m \u001b[38;5;28mself\u001b[39m\u001b[38;5;241m.\u001b[39msend(prep, \u001b[38;5;241m*\u001b[39m\u001b[38;5;241m*\u001b[39msend_kwargs)\n\u001b[0;32m    531\u001b[0m \u001b[38;5;28;01mreturn\u001b[39;00m resp\n",
      "File \u001b[1;32m~\\anaconda\\lib\\site-packages\\requests\\sessions.py:645\u001b[0m, in \u001b[0;36mSession.send\u001b[1;34m(self, request, **kwargs)\u001b[0m\n\u001b[0;32m    642\u001b[0m start \u001b[38;5;241m=\u001b[39m preferred_clock()\n\u001b[0;32m    644\u001b[0m \u001b[38;5;66;03m# Send the request\u001b[39;00m\n\u001b[1;32m--> 645\u001b[0m r \u001b[38;5;241m=\u001b[39m adapter\u001b[38;5;241m.\u001b[39msend(request, \u001b[38;5;241m*\u001b[39m\u001b[38;5;241m*\u001b[39mkwargs)\n\u001b[0;32m    647\u001b[0m \u001b[38;5;66;03m# Total elapsed time of the request (approximately)\u001b[39;00m\n\u001b[0;32m    648\u001b[0m elapsed \u001b[38;5;241m=\u001b[39m preferred_clock() \u001b[38;5;241m-\u001b[39m start\n",
      "File \u001b[1;32m~\\anaconda\\lib\\site-packages\\requests\\adapters.py:501\u001b[0m, in \u001b[0;36mHTTPAdapter.send\u001b[1;34m(self, request, stream, timeout, verify, cert, proxies)\u001b[0m\n\u001b[0;32m    498\u001b[0m             \u001b[38;5;28;01mraise\u001b[39;00m\n\u001b[0;32m    500\u001b[0m \u001b[38;5;28;01mexcept\u001b[39;00m (ProtocolError, socket\u001b[38;5;241m.\u001b[39merror) \u001b[38;5;28;01mas\u001b[39;00m err:\n\u001b[1;32m--> 501\u001b[0m     \u001b[38;5;28;01mraise\u001b[39;00m \u001b[38;5;167;01mConnectionError\u001b[39;00m(err, request\u001b[38;5;241m=\u001b[39mrequest)\n\u001b[0;32m    503\u001b[0m \u001b[38;5;28;01mexcept\u001b[39;00m MaxRetryError \u001b[38;5;28;01mas\u001b[39;00m e:\n\u001b[0;32m    504\u001b[0m     \u001b[38;5;28;01mif\u001b[39;00m \u001b[38;5;28misinstance\u001b[39m(e\u001b[38;5;241m.\u001b[39mreason, ConnectTimeoutError):\n\u001b[0;32m    505\u001b[0m         \u001b[38;5;66;03m# TODO: Remove this in 3.0.0: see #2811\u001b[39;00m\n",
      "\u001b[1;31mConnectionError\u001b[0m: ('Connection aborted.', RemoteDisconnected('Remote end closed connection without response'))"
     ]
    }
   ],
   "source": [
    "#all link scrapping\n",
    "category=\"destination_images\"\n",
    "with open(\"destinations.txt\",\"r\") as f:\n",
    "    single_url=f.readlines()\n",
    "    titles,ratings,total_reviews,rents,locations,descriptions,Extra_offers,Reviews,imageNames=[],[],[],[],[],[],[],[],[]\n",
    "    airbnb_scrap_partwise(0,98,titles,ratings,total_reviews,rents,locations,descriptions,Extra_offers,Reviews,imageNames)\n",
    "    time.sleep(30)\n",
    "    airbnb_scrap_partwise(99,180,titles,ratings,total_reviews,rents,locations,descriptions,Extra_offers,Reviews,imageNames)\n",
    "    time.sleep(30)\n",
    "    airbnb_scrap_partwise(181,224,titles,ratings,total_reviews,rents,locations,descriptions,Extra_offers,Reviews,imageNames)\n",
    "\n",
    "    \n",
    "    "
   ]
  },
  {
   "cell_type": "code",
   "execution_count": 337,
   "id": "c09b92d7",
   "metadata": {},
   "outputs": [],
   "source": [
    "#function for scrapping a limited number of links\n",
    "def airbnb_scrap_partwise(num1,num2,titles,ratings,total_reviews,rents,locations,descriptions,Extra_offers,Reviews,imageNames):\n",
    "    cnt=1\n",
    "    for s in single_url[num1:num2]:\n",
    "        print(cnt,s)\n",
    "        driver=openDriver()\n",
    "        title,rating,total_review,rent,location,description,extra_offers,reviews,imageName=product_scrap(driver,s,category)\n",
    "        if title:\n",
    "            titles.append(title)\n",
    "            ratings.append(rating)\n",
    "            total_reviews.append(total_review)\n",
    "            rents.append(rent)\n",
    "            locations.append(location)\n",
    "            descriptions.append(description)\n",
    "            Extra_offers.append(extra_offers)\n",
    "            Reviews.append(reviews)\n",
    "            imageNames.append(imageName)\n",
    "            \n",
    "            cnt+=1\n",
    "            print(\"=============================================\")\n",
    "            clear_output(wait=True)\n",
    "    "
   ]
  },
  {
   "cell_type": "code",
   "execution_count": 360,
   "id": "3662f017",
   "metadata": {},
   "outputs": [],
   "source": [
    "#saving the scrapping infos\n",
    "with open(\"Airbnb_Scrab.txt\",\"w\",encoding=\"utf-8\") as f:\n",
    "    f.write(\"No ,Title ,Ratings ,Total_reviews ,Rents ,Location ,Description ,Extra_offers ,Reviews ,Images\")\n",
    "    f.write(\"\\n\\n\")\n",
    "    for i,t,r,tr,ren,l,d,e,rev,im in zip(range(1,len(titles)+1),titles,ratings,total_reviews,rents,locations,descriptions,Extra_offers,Reviews,imageNames):\n",
    "        f.write(f\"{i} ,{t} ,{r} ,{tr} ,{ren} ,{l} ,{d} ,{e} ,{rev} ,{im} \")\n",
    "        f.write(\"\\n\\n\")"
   ]
  },
  {
   "cell_type": "code",
   "execution_count": null,
   "id": "a8899a94",
   "metadata": {},
   "outputs": [],
   "source": []
  }
 ],
 "metadata": {
  "kernelspec": {
   "display_name": "Python 3 (ipykernel)",
   "language": "python",
   "name": "python3"
  },
  "language_info": {
   "codemirror_mode": {
    "name": "ipython",
    "version": 3
   },
   "file_extension": ".py",
   "mimetype": "text/x-python",
   "name": "python",
   "nbconvert_exporter": "python",
   "pygments_lexer": "ipython3",
   "version": "3.9.12"
  }
 },
 "nbformat": 4,
 "nbformat_minor": 5
}
