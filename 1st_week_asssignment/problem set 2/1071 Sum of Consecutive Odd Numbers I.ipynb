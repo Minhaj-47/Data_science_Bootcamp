{
 "cells": [
  {
   "cell_type": "code",
   "execution_count": 1,
   "id": "037615d1",
   "metadata": {},
   "outputs": [],
   "source": [
    "# Read two integer values X and Y. Print the sum of all odd values between them.\n",
    "\n",
    "# Input\n",
    "# The input file contain two integer values.\n",
    "\n",
    "# Output\n",
    "# The program must print an integer number. This number is the sum off all odd values between both input values that must fit in an integer number."
   ]
  },
  {
   "cell_type": "code",
   "execution_count": 9,
   "id": "a0dcf877",
   "metadata": {},
   "outputs": [
    {
     "name": "stdout",
     "output_type": "stream",
     "text": [
      "Give 2 integer values:6 -5\n",
      "5\n"
     ]
    }
   ],
   "source": [
    "x,y=list(map(int,input(\"Give 2 integer values:\").split()))\n",
    "sum=0\n",
    "for i in range(x-1,y,-1):\n",
    "    if(i%2==1):\n",
    "        sum=sum+i\n",
    "print(sum)\n",
    "    "
   ]
  },
  {
   "cell_type": "code",
   "execution_count": null,
   "id": "63262f35",
   "metadata": {},
   "outputs": [],
   "source": []
  }
 ],
 "metadata": {
  "kernelspec": {
   "display_name": "Python 3 (ipykernel)",
   "language": "python",
   "name": "python3"
  },
  "language_info": {
   "codemirror_mode": {
    "name": "ipython",
    "version": 3
   },
   "file_extension": ".py",
   "mimetype": "text/x-python",
   "name": "python",
   "nbconvert_exporter": "python",
   "pygments_lexer": "ipython3",
   "version": "3.9.12"
  }
 },
 "nbformat": 4,
 "nbformat_minor": 5
}
