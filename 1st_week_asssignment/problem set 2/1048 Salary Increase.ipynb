{
 "cells": [
  {
   "cell_type": "code",
   "execution_count": 1,
   "id": "77309af4",
   "metadata": {},
   "outputs": [],
   "source": [
    "# The company ABC decided to give a salary increase to its employees, according to the following table:\n",
    "\n",
    "\n",
    "# Salary\tReadjustment Rate\n",
    "# 0 - 400.00\n",
    "# 400.01 - 800.00\n",
    "# 800.01 - 1200.00\n",
    "# 1200.01 - 2000.00\n",
    "# Above 2000.00\n",
    "\n",
    "# 15%\n",
    "# 12%\n",
    "# 10%\n",
    "# 7%\n",
    "# 4%\n",
    "\n",
    "\n",
    "# Read the employee's salary, calculate and print the new employee's salary, as well the money earned and the increase percentual obtained by the employee, with corresponding messages in Portuguese, as the below example.\n",
    "# Input\n",
    "# The input contains only a floating-point number, with 2 digits after the decimal point.\n",
    "\n",
    "# Output\n",
    "# Print 3 messages followed by the corresponding numbers (see example) informing the new salary, the among of money earned and the percentual obtained by the employee. Note:\n",
    "# Novo salario:  means \"New Salary\"\n",
    "# Reajuste ganho: means \"Money earned\"\n",
    "# Em percentual: means \"In percentage\""
   ]
  },
  {
   "cell_type": "code",
   "execution_count": 5,
   "id": "c7258c9d",
   "metadata": {},
   "outputs": [
    {
     "name": "stdout",
     "output_type": "stream",
     "text": [
      "Give the base salary upto 2 decimal points2000\n",
      "Novo salario: 2140.00\n",
      " Reajuste ganho: 140.00\n",
      "Em percentual: 7 %\n"
     ]
    }
   ],
   "source": [
    "x=float(input(\"Give the base salary upto 2 decimal points\"))\n",
    "if(0<x<=400.00):\n",
    "    incrementPercentage=15\n",
    "    newSalary=x+(x*(incrementPercentage/100))\n",
    "    print(f\"Novo salario: {newSalary:.2f}\\n Reajuste ganho: {(newSalary-x):.2f}\\nEm percentual: {incrementPercentage} %\")\n",
    "elif(400.01<=x<=800.00):\n",
    "    incrementPercentage=12\n",
    "    newSalary=x+(x*(incrementPercentage/100))\n",
    "    print(f\"Novo salario: {newSalary:.2f}\\n Reajuste ganho: {(newSalary-x):.2f}\\nEm percentual: {incrementPercentage} %\")\n",
    "elif(800.01<=x<=1200.00):\n",
    "    incrementPercentage=10\n",
    "    newSalary=x+(x*(incrementPercentage/100))\n",
    "    print(f\"Novo salario: {newSalary:.2f}\\n Reajuste ganho: {(newSalary-x):.2f}\\nEm percentual: {incrementPercentage} %\")\n",
    "elif(1200.01<=x<=2000.00):\n",
    "    incrementPercentage=7\n",
    "    newSalary=x+(x*(incrementPercentage/100))\n",
    "    print(f\"Novo salario: {newSalary:.2f}\\n Reajuste ganho: {(newSalary-x):.2f}\\nEm percentual: {incrementPercentage} %\")\n",
    "else:\n",
    "    incrementPercentage=4\n",
    "    newSalary=x+(x*(incrementPercentage/100))\n",
    "    print(f\"Novo salario: {newSalary:.2f}\\n Reajuste ganho: {(newSalary-x):.2f}\\nEm percentual: {incrementPercentage} %\")"
   ]
  },
  {
   "cell_type": "code",
   "execution_count": null,
   "id": "eb0462dc",
   "metadata": {},
   "outputs": [],
   "source": []
  }
 ],
 "metadata": {
  "kernelspec": {
   "display_name": "Python 3 (ipykernel)",
   "language": "python",
   "name": "python3"
  },
  "language_info": {
   "codemirror_mode": {
    "name": "ipython",
    "version": 3
   },
   "file_extension": ".py",
   "mimetype": "text/x-python",
   "name": "python",
   "nbconvert_exporter": "python",
   "pygments_lexer": "ipython3",
   "version": "3.9.12"
  }
 },
 "nbformat": 4,
 "nbformat_minor": 5
}
