{
 "cells": [
  {
   "cell_type": "code",
   "execution_count": 1,
   "id": "fce369a5",
   "metadata": {},
   "outputs": [],
   "source": [
    "# Read 6 values that can be floating point numbers. After, print how many of them were positive. In the next line, print the average of all positive values typed, with one digit after the decimal point.\n",
    "\n",
    "# Input\n",
    "# The input consist in 6 numbers that can be integer or floating point values. At least one number will be positive.\n",
    "\n",
    "# Output\n",
    "# The first output value is the amount of positive numbers. The next line should show the average of the positive values ​typed."
   ]
  },
  {
   "cell_type": "code",
   "execution_count": 6,
   "id": "3dfffa1b",
   "metadata": {},
   "outputs": [
    {
     "name": "stdout",
     "output_type": "stream",
     "text": [
      "Give 6 floating value7 -5 6 -3.4 4.6 12\n",
      "4 valores positivos\n",
      "7.4\n"
     ]
    }
   ],
   "source": [
    "floatNumberList=list(map(float,input(\"Give 6 floating value\").split()))\n",
    "total=0\n",
    "pos=0\n",
    "for i in floatNumberList:\n",
    "    if(float(i)>0):\n",
    "        pos+=1\n",
    "        total=total+float(i)\n",
    "avg=total/pos\n",
    "print(f\"{pos} valores positivos\\n{avg:.1f}\")"
   ]
  },
  {
   "cell_type": "code",
   "execution_count": null,
   "id": "889fbe4b",
   "metadata": {},
   "outputs": [],
   "source": []
  }
 ],
 "metadata": {
  "kernelspec": {
   "display_name": "Python 3 (ipykernel)",
   "language": "python",
   "name": "python3"
  },
  "language_info": {
   "codemirror_mode": {
    "name": "ipython",
    "version": 3
   },
   "file_extension": ".py",
   "mimetype": "text/x-python",
   "name": "python",
   "nbconvert_exporter": "python",
   "pygments_lexer": "ipython3",
   "version": "3.9.12"
  }
 },
 "nbformat": 4,
 "nbformat_minor": 5
}
