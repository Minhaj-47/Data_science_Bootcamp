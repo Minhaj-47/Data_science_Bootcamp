{
 "cells": [
  {
   "cell_type": "code",
   "execution_count": 1,
   "id": "5d7924ce",
   "metadata": {},
   "outputs": [],
   "source": [
    "# Make a program that reads five integer values. Count how many   of these values are even, odd, positive and negative. Print these information like following example.\n",
    "\n",
    "# Input\n",
    "# The input will be 5 integer values.\n",
    "\n",
    "# Output\n",
    "# Print a message like the following example with all letters in lowercase, indicating how many of these values ​​are even, odd, positive and negative.\n",
    "\n"
   ]
  },
  {
   "cell_type": "code",
   "execution_count": 3,
   "id": "79a4edec",
   "metadata": {},
   "outputs": [
    {
     "name": "stdout",
     "output_type": "stream",
     "text": [
      "Give 5 integer values:-5 0 -3 -4 12\n",
      "3 valor(es) par(es)\n",
      "2 valor(es) impar(es)\n",
      "1 valor(es) positivo(s)\n",
      "4 valor(es) negativo(s)\n"
     ]
    }
   ],
   "source": [
    "intList = list(map(int,input(\"Give 5 integer values:\").split()))\n",
    "even=0\n",
    "odd=0\n",
    "pos=0\n",
    "neg=0\n",
    "for i in intList:\n",
    "    if(int(i)%2==0):\n",
    "        even+=1\n",
    "    else:\n",
    "        odd+=1\n",
    "    if(int(i)>0):\n",
    "        pos+=1\n",
    "    else: \n",
    "        neg+=1\n",
    "print(f\"{even} valor(es) par(es)\\n{odd} valor(es) impar(es)\\n{pos} valor(es) positivo(s)\\n{neg} valor(es) negativo(s)\")"
   ]
  },
  {
   "cell_type": "code",
   "execution_count": null,
   "id": "317b9d74",
   "metadata": {},
   "outputs": [],
   "source": []
  }
 ],
 "metadata": {
  "kernelspec": {
   "display_name": "Python 3 (ipykernel)",
   "language": "python",
   "name": "python3"
  },
  "language_info": {
   "codemirror_mode": {
    "name": "ipython",
    "version": 3
   },
   "file_extension": ".py",
   "mimetype": "text/x-python",
   "name": "python",
   "nbconvert_exporter": "python",
   "pygments_lexer": "ipython3",
   "version": "3.9.12"
  }
 },
 "nbformat": 4,
 "nbformat_minor": 5
}
