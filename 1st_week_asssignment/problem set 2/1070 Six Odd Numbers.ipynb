{
 "cells": [
  {
   "cell_type": "code",
   "execution_count": 1,
   "id": "c6f711e7",
   "metadata": {},
   "outputs": [],
   "source": [
    "# Read an integer value X and print the 6 consecutive odd numbers from X, a value per line, including X if it is the case.\n",
    "\n",
    "# Input\n",
    "# The input will be a positive integer value.\n",
    "\n",
    "# Output\n",
    "# The output will be a sequence of six odd numbers."
   ]
  },
  {
   "cell_type": "code",
   "execution_count": 2,
   "id": "f420cdde",
   "metadata": {},
   "outputs": [
    {
     "name": "stdout",
     "output_type": "stream",
     "text": [
      "Give an integer value: 8\n",
      "9\n",
      "11\n",
      "13\n",
      "15\n",
      "17\n",
      "19\n"
     ]
    }
   ],
   "source": [
    "X=int(input(\"Give an integer value: \"))\n",
    "count=0\n",
    "while count!=6:\n",
    "    if(X%2!=0):\n",
    "        count+=1\n",
    "        print(X)\n",
    "    X+=1    "
   ]
  },
  {
   "cell_type": "code",
   "execution_count": null,
   "id": "734f4881",
   "metadata": {},
   "outputs": [],
   "source": []
  }
 ],
 "metadata": {
  "kernelspec": {
   "display_name": "Python 3 (ipykernel)",
   "language": "python",
   "name": "python3"
  },
  "language_info": {
   "codemirror_mode": {
    "name": "ipython",
    "version": 3
   },
   "file_extension": ".py",
   "mimetype": "text/x-python",
   "name": "python",
   "nbconvert_exporter": "python",
   "pygments_lexer": "ipython3",
   "version": "3.9.12"
  }
 },
 "nbformat": 4,
 "nbformat_minor": 5
}
