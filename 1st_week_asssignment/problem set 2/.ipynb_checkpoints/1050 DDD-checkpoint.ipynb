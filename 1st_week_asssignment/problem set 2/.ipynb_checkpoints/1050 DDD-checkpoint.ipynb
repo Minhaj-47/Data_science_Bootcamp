{
 "cells": [
  {
   "cell_type": "code",
   "execution_count": 1,
   "id": "84598473",
   "metadata": {},
   "outputs": [],
   "source": [
    "# Read an integer number that is the code number for phone dialing. Then, print the destination according to the following table:\n",
    "\n",
    "\n",
    "\n",
    "\n",
    "# If the input number isn’t found in the above table, the output must be:\n",
    "# DDD nao cadastrado\n",
    "# That means “DDD not found” in Portuguese language.\n",
    "\n",
    "# Input\n",
    "# The input consists in a unique integer number.\n",
    "\n",
    "# Output\n",
    "# Print the city name corresponding to the input DDD. Print DDD nao cadastrado if doesn't exist corresponding DDD to the typed number."
   ]
  },
  {
   "cell_type": "code",
   "execution_count": 5,
   "id": "05c03e93",
   "metadata": {},
   "outputs": [
    {
     "name": "stdout",
     "output_type": "stream",
     "text": [
      "Give a code number for the destination:31\n",
      "Belo Horizonte\n"
     ]
    }
   ],
   "source": [
    "x=int(input(\"Give a code number for the destination:\"))\n",
    "if(x==61):\n",
    "    print(\"Brasilia\")\n",
    "elif(x==71):\n",
    "    print(\"Salvador\")\n",
    "elif(x==11):\n",
    "    print(\"Sao Paulo\")\n",
    "elif(x==21):\n",
    "    print(\"Rio de Janeiro\")\n",
    "elif(x==32):\n",
    "    print(\"Juiz de Fora\")\n",
    "elif(x==19):\n",
    "    print(\"Campinas\")\n",
    "elif(x==27):\n",
    "    print(\"Vitoria\")\n",
    "elif(x==31):\n",
    "    print(\"Belo Horizonte\")\n",
    "else:\n",
    "    print(\"DDD nao cadastrado\")"
   ]
  },
  {
   "cell_type": "code",
   "execution_count": null,
   "id": "ff018223",
   "metadata": {},
   "outputs": [],
   "source": []
  }
 ],
 "metadata": {
  "kernelspec": {
   "display_name": "Python 3 (ipykernel)",
   "language": "python",
   "name": "python3"
  },
  "language_info": {
   "codemirror_mode": {
    "name": "ipython",
    "version": 3
   },
   "file_extension": ".py",
   "mimetype": "text/x-python",
   "name": "python",
   "nbconvert_exporter": "python",
   "pygments_lexer": "ipython3",
   "version": "3.9.12"
  }
 },
 "nbformat": 4,
 "nbformat_minor": 5
}
