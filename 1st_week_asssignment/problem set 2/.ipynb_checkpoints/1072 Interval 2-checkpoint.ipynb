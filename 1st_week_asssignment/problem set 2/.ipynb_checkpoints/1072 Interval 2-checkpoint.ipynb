{
 "cells": [
  {
   "cell_type": "code",
   "execution_count": 1,
   "id": "d140d44d",
   "metadata": {},
   "outputs": [],
   "source": [
    "# Read an integer N. This N will be the number of integer numbers X that will be read.\n",
    "\n",
    "# Print how many these numbers X are in the interval [10,20] and how many values are out of this interval.\n",
    " \n",
    "\n",
    "# Input\n",
    "# The first line of input is an integer N (N < 10000), that indicates the total number of test cases.\n",
    "# Each case is an integer number X (-107 < X < 107).\n",
    "\n",
    " \n",
    "\n",
    "# Output\n",
    "# For each test case, print how many numbers are in and how many values are out of the interval."
   ]
  },
  {
   "cell_type": "code",
   "execution_count": 4,
   "id": "8afed607",
   "metadata": {},
   "outputs": [
    {
     "name": "stdout",
     "output_type": "stream",
     "text": [
      "give the number of test cases you want: 4\n",
      "14\n",
      "123\n",
      "10\n",
      "-25\n",
      "2 in\n",
      "2 out\n"
     ]
    }
   ],
   "source": [
    "N=int(input(\"give the number of test cases you want: \"))\n",
    "inn=0\n",
    "out=0\n",
    "for i in range(N):\n",
    "    X=int(input())\n",
    "    if(10<=X<=20):\n",
    "        inn+=1\n",
    "    else:\n",
    "        out+=1\n",
    "print(f\"{inn} in\\n{out} out\")"
   ]
  },
  {
   "cell_type": "code",
   "execution_count": null,
   "id": "6eb0ee22",
   "metadata": {},
   "outputs": [],
   "source": []
  }
 ],
 "metadata": {
  "kernelspec": {
   "display_name": "Python 3 (ipykernel)",
   "language": "python",
   "name": "python3"
  },
  "language_info": {
   "codemirror_mode": {
    "name": "ipython",
    "version": 3
   },
   "file_extension": ".py",
   "mimetype": "text/x-python",
   "name": "python",
   "nbconvert_exporter": "python",
   "pygments_lexer": "ipython3",
   "version": "3.9.12"
  }
 },
 "nbformat": 4,
 "nbformat_minor": 5
}
