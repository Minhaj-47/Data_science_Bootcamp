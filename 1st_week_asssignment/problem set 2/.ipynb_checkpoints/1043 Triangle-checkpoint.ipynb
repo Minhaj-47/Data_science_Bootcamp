{
 "cells": [
  {
   "cell_type": "code",
   "execution_count": 1,
   "id": "6e4d66af",
   "metadata": {},
   "outputs": [],
   "source": [
    "# Read three point floating values (A, B and C) and verify if is possible to make a triangle with them. If it is possible, calculate the perimeter of the triangle and print the message:\n",
    "\n",
    "\n",
    "# Perimetro = XX.X\n",
    "\n",
    "\n",
    "# If it is not possible, calculate the area of the trapezium which basis A and B and C as height, and print the message:\n",
    "\n",
    "\n",
    "# Area = XX.X\n",
    "\n",
    "# Input\n",
    "# The input file has tree floating point numbers.\n",
    "\n",
    "# Output\n",
    "# Print the result with one digit after the decimal point."
   ]
  },
  {
   "cell_type": "code",
   "execution_count": 5,
   "id": "59230429",
   "metadata": {},
   "outputs": [
    {
     "name": "stdout",
     "output_type": "stream",
     "text": [
      "6 4 2.1\n",
      "Perimetro = 12.1\n"
     ]
    }
   ],
   "source": [
    "A,B,C = list(map(float,input().split()))\n",
    "if (A+B)>C and (A+C)>B and (B+C)>A:\n",
    "    perimeter = (A+B+C)\n",
    "    print(f\"Perimetro = {perimeter:.1f}\")\n",
    "else:\n",
    "    area = 0.5*(A+B)*C\n",
    "    print(f\"Area = {area:.1f}\")"
   ]
  },
  {
   "cell_type": "code",
   "execution_count": null,
   "id": "90f8b04a",
   "metadata": {},
   "outputs": [],
   "source": []
  }
 ],
 "metadata": {
  "kernelspec": {
   "display_name": "Python 3 (ipykernel)",
   "language": "python",
   "name": "python3"
  },
  "language_info": {
   "codemirror_mode": {
    "name": "ipython",
    "version": 3
   },
   "file_extension": ".py",
   "mimetype": "text/x-python",
   "name": "python",
   "nbconvert_exporter": "python",
   "pygments_lexer": "ipython3",
   "version": "3.9.12"
  }
 },
 "nbformat": 4,
 "nbformat_minor": 5
}
