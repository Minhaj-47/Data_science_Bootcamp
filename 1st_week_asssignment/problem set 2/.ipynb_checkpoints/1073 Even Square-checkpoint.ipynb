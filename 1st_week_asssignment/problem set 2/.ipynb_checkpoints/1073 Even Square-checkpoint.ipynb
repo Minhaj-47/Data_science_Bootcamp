{
 "cells": [
  {
   "cell_type": "code",
   "execution_count": 1,
   "id": "21614377",
   "metadata": {},
   "outputs": [],
   "source": [
    "# Read an integer N. Print the square of each one of the even values from 1 to N including N if it is the case.\n",
    "\n",
    "# Input\n",
    "# The input contains an integer N (5 < N < 2000).\n",
    "\n",
    "# Output\n",
    "# Print the square of each one of the even values from 1 to N, as the given example.\n",
    "\n",
    "# Be carefull! Some language automaticly print 1e+006 instead 1000000. Please configure your program to print the correct format setting the output precision."
   ]
  },
  {
   "cell_type": "code",
   "execution_count": 3,
   "id": "f5b8ed6d",
   "metadata": {},
   "outputs": [
    {
     "name": "stdout",
     "output_type": "stream",
     "text": [
      "GIVe a range value6\n",
      "2^2= 4\n",
      "4^2= 16\n",
      "6^2= 36\n"
     ]
    }
   ],
   "source": [
    "N =int(input(\"GIVe a range value\"))\n",
    "for i in range(1,N+1):\n",
    "    if(i%2==0):\n",
    "        print(f\"{i}^2= {i*i}\")"
   ]
  },
  {
   "cell_type": "code",
   "execution_count": null,
   "id": "364b2a6d",
   "metadata": {},
   "outputs": [],
   "source": []
  }
 ],
 "metadata": {
  "kernelspec": {
   "display_name": "Python 3 (ipykernel)",
   "language": "python",
   "name": "python3"
  },
  "language_info": {
   "codemirror_mode": {
    "name": "ipython",
    "version": 3
   },
   "file_extension": ".py",
   "mimetype": "text/x-python",
   "name": "python",
   "nbconvert_exporter": "python",
   "pygments_lexer": "ipython3",
   "version": "3.9.12"
  }
 },
 "nbformat": 4,
 "nbformat_minor": 5
}
