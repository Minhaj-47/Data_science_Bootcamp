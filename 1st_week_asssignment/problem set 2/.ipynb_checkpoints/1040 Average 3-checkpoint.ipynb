{
 "cells": [
  {
   "cell_type": "code",
   "execution_count": 1,
   "id": "8ec9bde7",
   "metadata": {},
   "outputs": [],
   "source": [
    "# Read four numbers (N1, N2, N3, N4), which one with 1 digit after the decimal point, corresponding to 4 scores obtained by a student. Calculate the average with weights 2, 3, 4 e 1 respectively, for these 4 scores and print the message \"Media: \" (Average), followed by the calculated result. If the average was 7.0 or more, print the message \"Aluno aprovado.\" (Approved Student). If the average was less than 5.0, print the message: \"Aluno reprovado.\" (Reproved Student). If the average was between 5.0 and 6.9, including these, the program must print the message \"Aluno em exame.\" (In exam student).\n",
    "\n",
    "# In case of exam, read one more score. Print the message \"Nota do exame: \" (Exam score) followed by the typed score. Recalculate the average (sum the exam score with the previous calculated average and divide by 2) and print the message “Aluno aprovado.” (Approved student) in case of average 5.0 or more) or \"Aluno reprovado.\" (Reproved student) in case of average 4.9 or less. For these 2 cases (approved or reproved after the exam) print the message \"Media final: \" (Final average) followed by the final average for this student in the last line.\n",
    "\n",
    "# Input\n",
    "# The input contains four floating point numbers that represent the students' grades.\n",
    "\n",
    "# Output\n",
    "# Print all the answers with one digit after the decimal point."
   ]
  },
  {
   "cell_type": "code",
   "execution_count": 20,
   "id": "a11b91bd",
   "metadata": {},
   "outputs": [
    {
     "name": "stdout",
     "output_type": "stream",
     "text": [
      "2.0 4.0 7.5 8.0\n",
      "Media: 5.4\n",
      "Aluno em exame.\n",
      "6.4\n",
      "Nota do exame: 6.4\n",
      "Aluno aprovado.\n",
      "Media final: 5.9\n"
     ]
    }
   ],
   "source": [
    "N1,N2,N3,N4 = list(map(float,input().split()))\n",
    "avg = (N1*2+N2*3+N3*4+N4*1)/(2+3+4+1)\n",
    "print(f'Media: {avg:.1f}')\n",
    "if avg>=7.0:\n",
    "    print(\"Aluno aprovado.\")\n",
    "elif avg<5.0:\n",
    "    print(\"Aluno reprovado.\")\n",
    "elif 5.0<=avg<7.0:\n",
    "    print(\"Aluno em exame.\")\n",
    "    N5 = float(input())\n",
    "    print(f'Nota do exame: {N5:.1f}')\n",
    "    new_avg = (avg+N5)/2\n",
    "    if new_avg>=5.0:\n",
    "        print(\"Aluno aprovado.\")\n",
    "        print(f'Media final: {new_avg:.1f}')\n",
    "    else:\n",
    "        print(\"Aluno reprovado.\")\n",
    "        print(f'Media final: {new_avg:.1f}')"
   ]
  },
  {
   "cell_type": "code",
   "execution_count": null,
   "id": "0e0b2c1b",
   "metadata": {},
   "outputs": [],
   "source": []
  },
  {
   "cell_type": "code",
   "execution_count": null,
   "id": "aae9c216",
   "metadata": {},
   "outputs": [],
   "source": []
  }
 ],
 "metadata": {
  "kernelspec": {
   "display_name": "Python 3 (ipykernel)",
   "language": "python",
   "name": "python3"
  },
  "language_info": {
   "codemirror_mode": {
    "name": "ipython",
    "version": 3
   },
   "file_extension": ".py",
   "mimetype": "text/x-python",
   "name": "python",
   "nbconvert_exporter": "python",
   "pygments_lexer": "ipython3",
   "version": "3.9.12"
  }
 },
 "nbformat": 4,
 "nbformat_minor": 5
}
