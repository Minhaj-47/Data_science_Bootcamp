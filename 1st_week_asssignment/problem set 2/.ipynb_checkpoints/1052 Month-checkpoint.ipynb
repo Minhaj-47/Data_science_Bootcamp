{
 "cells": [
  {
   "cell_type": "code",
   "execution_count": 1,
   "id": "c88a5734",
   "metadata": {},
   "outputs": [],
   "source": [
    "# Read an integer number between 1 and 12, including. Corresponding to this number, you must print the month of the year, in english, with the first letter in uppercase.\n",
    "\n",
    "# Input\n",
    "# The input contains only an integer number.\n",
    "\n",
    "# Output\n",
    "# Print the name of the month according to the input number, with the first letter in uppercase.\n",
    "\n"
   ]
  },
  {
   "cell_type": "code",
   "execution_count": 7,
   "id": "3851b1b0",
   "metadata": {},
   "outputs": [
    {
     "name": "stdout",
     "output_type": "stream",
     "text": [
      "Give the month number:12\n",
      "December\n"
     ]
    }
   ],
   "source": [
    "month_number=int(input(\"Give the month number:\"))\n",
    "month_list=[\"January\",\"February\",\"March\",\"April\",\"May\",\"June\",\"July\",\"August\",\"September\",\"October\",\"Novermber\",\"December\"]\n",
    "for i in range(1,13):\n",
    "    if(i==month_number):\n",
    "        print(month_list[i-1])"
   ]
  },
  {
   "cell_type": "code",
   "execution_count": null,
   "id": "10dbb7ed",
   "metadata": {},
   "outputs": [],
   "source": []
  }
 ],
 "metadata": {
  "kernelspec": {
   "display_name": "Python 3 (ipykernel)",
   "language": "python",
   "name": "python3"
  },
  "language_info": {
   "codemirror_mode": {
    "name": "ipython",
    "version": 3
   },
   "file_extension": ".py",
   "mimetype": "text/x-python",
   "name": "python",
   "nbconvert_exporter": "python",
   "pygments_lexer": "ipython3",
   "version": "3.9.12"
  }
 },
 "nbformat": 4,
 "nbformat_minor": 5
}
