{
 "cells": [
  {
   "cell_type": "code",
   "execution_count": 1,
   "id": "02414c7c",
   "metadata": {},
   "outputs": [],
   "source": [
    "# Make a program that reads five integer values. Count how many of these values ​​are even and  print this information like the following example.\n",
    "\n",
    "# Input\n",
    "# The input will be 5 integer values.\n",
    "\n",
    "# Output\n",
    "# Print a message like the following example with all letters in lowercase, indicating how many even numbers were typed."
   ]
  },
  {
   "cell_type": "code",
   "execution_count": 2,
   "id": "a527d200",
   "metadata": {},
   "outputs": [
    {
     "name": "stdout",
     "output_type": "stream",
     "text": [
      "Give 5 integer values:7 -5 6 -4 12\n",
      "3 valores pares\n"
     ]
    }
   ],
   "source": [
    "intList = list(map(int,input(\"Give 5 integer values:\").split()))\n",
    "even=0\n",
    "for i in intList:\n",
    "    if(int(i)%2==0):\n",
    "        even+=1\n",
    "print(f\"{even} valores pares\")"
   ]
  },
  {
   "cell_type": "code",
   "execution_count": null,
   "id": "d519a896",
   "metadata": {},
   "outputs": [],
   "source": []
  }
 ],
 "metadata": {
  "kernelspec": {
   "display_name": "Python 3 (ipykernel)",
   "language": "python",
   "name": "python3"
  },
  "language_info": {
   "codemirror_mode": {
    "name": "ipython",
    "version": 3
   },
   "file_extension": ".py",
   "mimetype": "text/x-python",
   "name": "python",
   "nbconvert_exporter": "python",
   "pygments_lexer": "ipython3",
   "version": "3.9.12"
  }
 },
 "nbformat": 4,
 "nbformat_minor": 5
}
