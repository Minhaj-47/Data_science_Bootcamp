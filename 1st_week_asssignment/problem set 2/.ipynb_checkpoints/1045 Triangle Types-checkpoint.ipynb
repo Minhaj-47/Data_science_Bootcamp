{
 "cells": [
  {
   "cell_type": "code",
   "execution_count": 1,
   "id": "c0c656b7",
   "metadata": {},
   "outputs": [],
   "source": [
    "# Read 3 double numbers (A, B and C) representing the sides of a triangle and arrange them in decreasing order, so that the side A is the biggest of the three sides. Next, determine the type of triangle that they can make, based on the following cases always writing an appropriate message:\n",
    "# if A ≥ B + C, write the message: NAO FORMA TRIANGULO\n",
    "# if A2 = B2 + C2, write the message: TRIANGULO RETANGULO\n",
    "# if A2 > B2 + C2, write the message: TRIANGULO OBTUSANGULO\n",
    "# if A2 < B2 + C2, write the message: TRIANGULO ACUTANGULO\n",
    "# if the three sides are the same size, write the message: TRIANGULO EQUILATERO\n",
    "# if only two sides are the same and the third one is different, write the message: TRIANGULO ISOSCELES\n",
    "# Input\n",
    "# The input contains three double numbers, A (0 < A) , B (0 < B) and C (0 < C).\n",
    "\n",
    "# Output\n",
    "# Print all the classifications of the triangle presented in the input."
   ]
  },
  {
   "cell_type": "code",
   "execution_count": 13,
   "id": "abd647e0",
   "metadata": {},
   "outputs": [
    {
     "name": "stdout",
     "output_type": "stream",
     "text": [
      "give 3 values: 6 8 10\n",
      "TRIANGULO RETANGULO\n"
     ]
    }
   ],
   "source": [
    "a,b,c=list(map(float,input(\"give 3 values: \").split()))\n",
    "def swapValue(x,y):\n",
    "    temp=x\n",
    "    x=y\n",
    "    y=temp\n",
    "    return x,y\n",
    "if a<b:\n",
    "    a,b=swapValue(a,b)\n",
    "if b<c:\n",
    "    b,c=swapValue(b,c)\n",
    "if a<b:\n",
    "    a,b=swapValue(a,b)\n",
    "if(a >= (b+c)):\n",
    "    print(\"NAO FORMA TRIANGULO\")\n",
    "elif(a*a == (b*b+c*c)):\n",
    "     print(\"TRIANGULO RETANGULO\")\n",
    "elif(a*a > (b*b+ c*c)):\n",
    "    print(\"TRIANGULO OBTUSANGULO\")\n",
    "elif(a*a < (b*b + c*c)):\n",
    "    print(\"TRIANGULO ACUTANGULO\")\n",
    "if(a == b and b == c):\n",
    "        print(\"TRIANGULO EQUILATERO\")\n",
    "elif(a == b or b == c):\n",
    "        print(\"TRIANGULO ISOSCELES\")"
   ]
  },
  {
   "cell_type": "code",
   "execution_count": null,
   "id": "984fc31e",
   "metadata": {},
   "outputs": [],
   "source": []
  }
 ],
 "metadata": {
  "kernelspec": {
   "display_name": "Python 3 (ipykernel)",
   "language": "python",
   "name": "python3"
  },
  "language_info": {
   "codemirror_mode": {
    "name": "ipython",
    "version": 3
   },
   "file_extension": ".py",
   "mimetype": "text/x-python",
   "name": "python",
   "nbconvert_exporter": "python",
   "pygments_lexer": "ipython3",
   "version": "3.9.12"
  }
 },
 "nbformat": 4,
 "nbformat_minor": 5
}
