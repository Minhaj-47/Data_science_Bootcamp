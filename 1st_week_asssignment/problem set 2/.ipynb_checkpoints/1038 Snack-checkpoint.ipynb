{
 "cells": [
  {
   "cell_type": "code",
   "execution_count": 1,
   "id": "c905a300",
   "metadata": {},
   "outputs": [],
   "source": [
    "# Using the following table, write a program that reads a code and the amount of an item. After, print the value to pay. This is a very simple program with the only intention of practice of selection commands.\n",
    "\n",
    "\n",
    "\n",
    "# Input\n",
    "# The input file contains two integer numbers X and Y. X is the product code and Y is the quantity of this item according to the above table.\n",
    "\n",
    "# Output\n",
    "# The output must be a message \"Total: R$ \" followed by the total value to be paid, with 2 digits after the decimal point."
   ]
  },
  {
   "cell_type": "code",
   "execution_count": 4,
   "id": "0fc7865f",
   "metadata": {},
   "outputs": [
    {
     "name": "stdout",
     "output_type": "stream",
     "text": [
      "GIve the values of X and Y: 2 3\n",
      "Total: R$ 13.50\n"
     ]
    }
   ],
   "source": [
    "# 1. cachoro quente R$ 4.00\n",
    "# 2. X-salada      R$ 4.50\n",
    "# 3. X-bacon      R$ 5.00\n",
    "# 4. Torrada simples R$2.00\n",
    "# 5. Refrigerante  R$1.50\n",
    "X,Y=list(map(int,input(\"GIve the values of X and Y: \").split()))\n",
    "if(X==1):\n",
    "    total=float(4.00*Y)\n",
    "    print(f\"Total: R$ {total:.2f}\")\n",
    "elif(X==2):\n",
    "    total=float(4.50*Y)\n",
    "    print(f\"Total: R$ {total:.2f}\")\n",
    "elif(X==3):\n",
    "    total=float(5.00*Y)\n",
    "    print(f\"Total: R$ {total:.2f}\")\n",
    "elif(X==4):\n",
    "    total=float(2.00*Y)\n",
    "    print(f\"Total: R$ {total:.2f}\")\n",
    "elif(X==5):\n",
    "    total=float(1.50*Y)\n",
    "    print(f\"Total: R$ {total:.2f}\")\n",
    "else:\n",
    "    print(\"Given code is invalid\")\n",
    "    "
   ]
  },
  {
   "cell_type": "code",
   "execution_count": null,
   "id": "c9bd3304",
   "metadata": {},
   "outputs": [],
   "source": []
  }
 ],
 "metadata": {
  "kernelspec": {
   "display_name": "Python 3 (ipykernel)",
   "language": "python",
   "name": "python3"
  },
  "language_info": {
   "codemirror_mode": {
    "name": "ipython",
    "version": 3
   },
   "file_extension": ".py",
   "mimetype": "text/x-python",
   "name": "python",
   "nbconvert_exporter": "python",
   "pygments_lexer": "ipython3",
   "version": "3.9.12"
  }
 },
 "nbformat": 4,
 "nbformat_minor": 5
}
