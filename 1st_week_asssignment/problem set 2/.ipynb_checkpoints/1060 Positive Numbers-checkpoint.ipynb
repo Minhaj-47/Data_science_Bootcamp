{
 "cells": [
  {
   "cell_type": "code",
   "execution_count": 1,
   "id": "7c493090",
   "metadata": {},
   "outputs": [],
   "source": [
    "# Write a program that reads 6 numbers. These numbers will only be positive or negative (disregard null values). Print the total number of positive numbers.\n",
    "\n",
    "# Input\n",
    "# Six numbers, positive and/or negative.\n",
    "\n",
    "# Output\n",
    "# Print a message with the total number of positive numbers."
   ]
  },
  {
   "cell_type": "code",
   "execution_count": 13,
   "id": "e09e158a",
   "metadata": {},
   "outputs": [
    {
     "name": "stdout",
     "output_type": "stream",
     "text": [
      "7 -5 6 -3.4 4.6 12\n",
      "4 valores positivos\n"
     ]
    }
   ],
   "source": [
    "a,b,c,d,e,f=list(input().split())\n",
    "new_list=[a,b,c,d,e,f]\n",
    "pos=0\n",
    "for i in new_list:\n",
    "    if(float(i)>0):\n",
    "        pos+=1\n",
    "print(f\"{pos} valores positivos\")"
   ]
  },
  {
   "cell_type": "code",
   "execution_count": null,
   "id": "d6ae1771",
   "metadata": {},
   "outputs": [],
   "source": []
  }
 ],
 "metadata": {
  "kernelspec": {
   "display_name": "Python 3 (ipykernel)",
   "language": "python",
   "name": "python3"
  },
  "language_info": {
   "codemirror_mode": {
    "name": "ipython",
    "version": 3
   },
   "file_extension": ".py",
   "mimetype": "text/x-python",
   "name": "python",
   "nbconvert_exporter": "python",
   "pygments_lexer": "ipython3",
   "version": "3.9.12"
  }
 },
 "nbformat": 4,
 "nbformat_minor": 5
}
