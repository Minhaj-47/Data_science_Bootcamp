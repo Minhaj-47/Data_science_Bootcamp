{
 "cells": [
  {
   "cell_type": "code",
   "execution_count": 1,
   "id": "85d08ccc",
   "metadata": {},
   "outputs": [],
   "source": [
    "# Read two nteger values (A and B). After, the program should print the message \"Sao Multiplos\" (are multiples) or \"Nao sao Multiplos\" (aren’t multiples), corresponding to the read values.\n",
    "\n",
    "# Input\n",
    "# The input has two integer numbers.\n",
    "\n",
    "# Output\n",
    "# Print the relative message to the input as stated above."
   ]
  },
  {
   "cell_type": "code",
   "execution_count": 3,
   "id": "6425a9d0",
   "metadata": {},
   "outputs": [
    {
     "name": "stdout",
     "output_type": "stream",
     "text": [
      "6 25\n",
      "Nao sao Multiplos\n"
     ]
    }
   ],
   "source": [
    "x,y =list(map(int,input().split()))\n",
    "if(x%y==0 or y%x==0):\n",
    "    print(\"Sao Multiplos\")\n",
    "else:\n",
    "    print(\"Nao sao Multiplos\")"
   ]
  },
  {
   "cell_type": "code",
   "execution_count": null,
   "id": "7f3dead8",
   "metadata": {},
   "outputs": [],
   "source": []
  }
 ],
 "metadata": {
  "kernelspec": {
   "display_name": "Python 3 (ipykernel)",
   "language": "python",
   "name": "python3"
  },
  "language_info": {
   "codemirror_mode": {
    "name": "ipython",
    "version": 3
   },
   "file_extension": ".py",
   "mimetype": "text/x-python",
   "name": "python",
   "nbconvert_exporter": "python",
   "pygments_lexer": "ipython3",
   "version": "3.9.12"
  }
 },
 "nbformat": 4,
 "nbformat_minor": 5
}
