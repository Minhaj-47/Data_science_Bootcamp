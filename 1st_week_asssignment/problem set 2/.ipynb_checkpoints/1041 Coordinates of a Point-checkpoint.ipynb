{
 "cells": [
  {
   "cell_type": "code",
   "execution_count": 1,
   "id": "8ffa0d3d",
   "metadata": {},
   "outputs": [],
   "source": [
    "# Write an algorithm that reads two floating values (x and y), which should represent the coordinates of a point in a plane. Next, determine which quadrant the point belongs, or if you are at one of the Cartesian axes or the origin (x = y = 0).\n",
    "\n",
    "\n",
    "\n",
    "# If the point is at the origin, write the message \"Origem\".\n",
    "\n",
    "# If the point is at X axis write \"Eixo X\", else if the point is at Y axis write \"Eixo Y\".\n",
    "\n",
    "# Input\n",
    "# The input contains the coordinates of a point.\n",
    "\n",
    "# Output\n",
    "# The output should display the quadrant in which the point is."
   ]
  },
  {
   "cell_type": "code",
   "execution_count": 9,
   "id": "ef2679c4",
   "metadata": {},
   "outputs": [
    {
     "name": "stdout",
     "output_type": "stream",
     "text": [
      "give the coordinates0.0 0.0\n",
      "Origem\n"
     ]
    }
   ],
   "source": [
    "X,Y=list(map(float,input(\"give the coordinates\").split()))\n",
    "if(X==0 and Y==0):\n",
    "    print(\"Origem\")\n",
    "elif(Y==0):\n",
    "    print(\"Eixo X\")\n",
    "elif(X==0):\n",
    "    print(\"Eixo Y\")\n",
    "elif(X>0 and Y>0):\n",
    "    print(\"Q1\")\n",
    "elif(X<0 and Y>0):\n",
    "    print(\"Q2\")\n",
    "elif(X<0 and Y<0):\n",
    "    print(\"Q3\")\n",
    "elif(X>0 and Y<0):\n",
    "    print(\"Q4\")\n",
    "\n",
    "    "
   ]
  },
  {
   "cell_type": "code",
   "execution_count": null,
   "id": "b65c108c",
   "metadata": {},
   "outputs": [],
   "source": []
  },
  {
   "cell_type": "code",
   "execution_count": null,
   "id": "d64828d6",
   "metadata": {},
   "outputs": [],
   "source": []
  }
 ],
 "metadata": {
  "kernelspec": {
   "display_name": "Python 3 (ipykernel)",
   "language": "python",
   "name": "python3"
  },
  "language_info": {
   "codemirror_mode": {
    "name": "ipython",
    "version": 3
   },
   "file_extension": ".py",
   "mimetype": "text/x-python",
   "name": "python",
   "nbconvert_exporter": "python",
   "pygments_lexer": "ipython3",
   "version": "3.9.12"
  }
 },
 "nbformat": 4,
 "nbformat_minor": 5
}
