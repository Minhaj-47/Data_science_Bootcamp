{
 "cells": [
  {
   "cell_type": "code",
   "execution_count": 1,
   "id": "0c2e0b84",
   "metadata": {},
   "outputs": [],
   "source": [
    "# Read the start time and end time of a game, in hours. Then calculate the duration of the game, knowing that the game can begin in a day and finish in another day, with a maximum duration of 24 hours. The message must be printed in portuguese “O JOGO DUROU X HORA(S)” that means “THE GAME LASTED X HOUR(S)”\n",
    "\n",
    "# Input\n",
    "# Two integer numbers representing the start and end time of a game.\n",
    "\n",
    "# Output\n",
    "# Print the duration of the game as in the sample output."
   ]
  },
  {
   "cell_type": "code",
   "execution_count": 8,
   "id": "41b3e639",
   "metadata": {},
   "outputs": [
    {
     "name": "stdout",
     "output_type": "stream",
     "text": [
      "give the beginning and end hours0 0\n",
      "O JOGO DUROU 24 HORA(S)\n"
     ]
    }
   ],
   "source": [
    "x,y=list(map(int,input(\"give the beginning and end hours\").split()))\n",
    "if(x>=y):\n",
    "    time=y+24-x\n",
    "else:\n",
    "    time=y-x\n",
    "print(f\"O JOGO DUROU {time} HORA(S)\")"
   ]
  },
  {
   "cell_type": "code",
   "execution_count": null,
   "id": "fb8c995c",
   "metadata": {},
   "outputs": [],
   "source": []
  }
 ],
 "metadata": {
  "kernelspec": {
   "display_name": "Python 3 (ipykernel)",
   "language": "python",
   "name": "python3"
  },
  "language_info": {
   "codemirror_mode": {
    "name": "ipython",
    "version": 3
   },
   "file_extension": ".py",
   "mimetype": "text/x-python",
   "name": "python",
   "nbconvert_exporter": "python",
   "pygments_lexer": "ipython3",
   "version": "3.9.12"
  }
 },
 "nbformat": 4,
 "nbformat_minor": 5
}
