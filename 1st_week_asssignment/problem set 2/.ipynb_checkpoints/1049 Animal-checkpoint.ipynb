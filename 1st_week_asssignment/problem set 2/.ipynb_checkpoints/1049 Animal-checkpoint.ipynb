{
 "cells": [
  {
   "cell_type": "code",
   "execution_count": 10,
   "id": "ee3991e4",
   "metadata": {},
   "outputs": [
    {
     "name": "stdout",
     "output_type": "stream",
     "text": [
      "vertebrado\n",
      "mamifero\n",
      "onivoro\n",
      "homem\n"
     ]
    }
   ],
   "source": [
    "x = input().lower\n",
    "y = input().lower\n",
    "z = input().lower\n",
    "\n",
    "if x == 'vertebrado':\n",
    "    if y == 'ave':\n",
    "        if z == 'carnivoro':\n",
    "            animal = 'aguia'\n",
    "        elif z == 'onivoro':\n",
    "             animal = 'pomba'\n",
    "    elif y == 'mamifero':\n",
    "        if z == 'onivoro':\n",
    "            animal = 'homem'\n",
    "        elif z == 'herbivoro':\n",
    "             animal = 'vaca'\n",
    "        \n",
    "elif x == 'invertebrado':\n",
    "    if y == 'inseto':\n",
    "        if z == 'hematofago':\n",
    "            animal = 'pulga'\n",
    "        elif z == 'herbivoro':\n",
    "             animal = 'lagarta'\n",
    "    elif y == 'anelideo':\n",
    "        if z == 'hematofago':\n",
    "            animal = 'sanguessuga'\n",
    "        elif z == 'onivoro':\n",
    "             animal = 'minhoca'\n",
    "\n",
    "print(animal)"
   ]
  },
  {
   "cell_type": "code",
   "execution_count": null,
   "id": "e9e03aff",
   "metadata": {},
   "outputs": [],
   "source": []
  }
 ],
 "metadata": {
  "kernelspec": {
   "display_name": "Python 3 (ipykernel)",
   "language": "python",
   "name": "python3"
  },
  "language_info": {
   "codemirror_mode": {
    "name": "ipython",
    "version": 3
   },
   "file_extension": ".py",
   "mimetype": "text/x-python",
   "name": "python",
   "nbconvert_exporter": "python",
   "pygments_lexer": "ipython3",
   "version": "3.9.12"
  }
 },
 "nbformat": 4,
 "nbformat_minor": 5
}
