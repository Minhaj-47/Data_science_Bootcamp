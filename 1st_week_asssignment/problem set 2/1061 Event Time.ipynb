{
 "cells": [
  {
   "cell_type": "code",
   "execution_count": 1,
   "id": "9620f217",
   "metadata": {},
   "outputs": [],
   "source": [
    "# Peter is organizing an event in his University. The event will be in April month, beginning and finishing within April month. The problem is: Peter wants to calculate the event duration in seconds, knowing obviously the begin and the end time of the event.\n",
    "\n",
    "# You know that the event can take from few seconds to some days, so, you must help Peter to compute the total time corresponding to duration of the event.\n",
    "\n",
    "# Input\n",
    "# The first line of the input contains information about the beginning day of the event in the format: “Dia xx”. The next line contains the start time of the event in the format presented in the sample input. Follow 2 input lines with same format, corresponding to the end of the event.\n",
    "\n",
    "# Output\n",
    "# Your program must print the following output, one information by line, considering that if any information is null for example, the number 0 must be printed in place of W, X, Y or Z:\n",
    "\n",
    "# W dia(s)\n",
    "# X hora(s)\n",
    "# Y minuto(s)"
   ]
  },
  {
   "cell_type": "code",
   "execution_count": 27,
   "id": "038c0d3a",
   "metadata": {},
   "outputs": [
    {
     "name": "stdout",
     "output_type": "stream",
     "text": [
      "Dia 5\n",
      "08 : 12 : 23\n",
      "Dia 9\n",
      "06 : 13 : 23\n",
      "3 dia(s)\n",
      "22 hora(s)\n",
      "1 minuto(s)\n",
      "0 segundo(s)\n"
     ]
    }
   ],
   "source": [
    "day1=int(input().split()[-1])\n",
    "h1,m1,s1=map(int,input().split(\" : \") )\n",
    "\n",
    "day2=int(input().split()[-1])\n",
    "h2,m2,s2=map(int,input().split(\" : \") )\n",
    "S = s2 - s1\n",
    "M = m2 - m1\n",
    "H = h2 - h1\n",
    "D = day2 - day1\n",
    "if(S<0):\n",
    "    S+=60\n",
    "    M-=1\n",
    "if(M<0):\n",
    "    M+=60\n",
    "    H-=1\n",
    "if(H<0):\n",
    "    H+=24\n",
    "    D-=1\n",
    "print(f\"{D} dia(s)\")\n",
    "print(f\"{H} hora(s)\")\n",
    "print(f\"{M} minuto(s)\")\n",
    "print(f\"{S} segundo(s)\")\n"
   ]
  },
  {
   "cell_type": "code",
   "execution_count": null,
   "id": "463bde6e",
   "metadata": {},
   "outputs": [],
   "source": []
  }
 ],
 "metadata": {
  "kernelspec": {
   "display_name": "Python 3 (ipykernel)",
   "language": "python",
   "name": "python3"
  },
  "language_info": {
   "codemirror_mode": {
    "name": "ipython",
    "version": 3
   },
   "file_extension": ".py",
   "mimetype": "text/x-python",
   "name": "python",
   "nbconvert_exporter": "python",
   "pygments_lexer": "ipython3",
   "version": "3.9.12"
  }
 },
 "nbformat": 4,
 "nbformat_minor": 5
}
