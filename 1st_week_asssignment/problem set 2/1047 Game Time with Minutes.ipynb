{
 "cells": [
  {
   "cell_type": "code",
   "execution_count": 1,
   "id": "66b74ee9",
   "metadata": {},
   "outputs": [],
   "source": [
    "# Read the start time and end time of a game, in hours and minutes (initial hour, initial minute, final hour, final minute). Then print the duration of the game, knowing that the game can begin in a day and finish in another day,\n",
    "\n",
    "# Obs.: With a maximum game time of 24 hours and the minimum game time of 1 minute.\n",
    "\n",
    "# Input\n",
    "# Four integer numbers representing the start and end time of the game.\n",
    "\n",
    "# Output\n",
    "# Print the duration of the game in hours and minutes, in this format: “O JOGO DUROU XXX HORA(S) E YYY MINUTO(S)” . Which means: the game lasted XXX hour(s) and YYY minutes."
   ]
  },
  {
   "cell_type": "code",
   "execution_count": 26,
   "id": "cdf43372",
   "metadata": {},
   "outputs": [
    {
     "name": "stdout",
     "output_type": "stream",
     "text": [
      "give beggining time and ending time in minutes and hours: 7 8 9 10\n",
      "O JOGO DUROU 2 HORA(S) E 2 MINUTO(S)\n"
     ]
    }
   ],
   "source": [
    "w,x,y,z=list(map(int,input(\"give beggining time and ending time in minutes and hours: \").split()))\n",
    "def minutes(x,y,z):\n",
    "    if(x<y):\n",
    "        minutes=y-x\n",
    "    else:\n",
    "        minutes=y+60-x\n",
    "        z=z-1\n",
    "    if(minutes==60):\n",
    "        minutes=0\n",
    "        z=z+1\n",
    "    return minutes,z\n",
    "if(w<y):\n",
    "    hours=y-w\n",
    "    minutes,hours=minutes(x,z,hours)\n",
    "    print(f\"O JOGO DUROU {hours} HORA(S) E {minutes} MINUTO(S)\")\n",
    "    \n",
    "else:\n",
    "    hours=w+24-y\n",
    "    minutes,hours=minutes(x,z,hours)\n",
    "    print(f\"O JOGO DUROU {hours} HORA(S) E {minutes} MINUTO(S)\")\n",
    "    \n",
    "    "
   ]
  },
  {
   "cell_type": "code",
   "execution_count": null,
   "id": "c5eb894f",
   "metadata": {},
   "outputs": [],
   "source": []
  },
  {
   "cell_type": "code",
   "execution_count": null,
   "id": "fcbd6103",
   "metadata": {},
   "outputs": [],
   "source": []
  }
 ],
 "metadata": {
  "kernelspec": {
   "display_name": "Python 3 (ipykernel)",
   "language": "python",
   "name": "python3"
  },
  "language_info": {
   "codemirror_mode": {
    "name": "ipython",
    "version": 3
   },
   "file_extension": ".py",
   "mimetype": "text/x-python",
   "name": "python",
   "nbconvert_exporter": "python",
   "pygments_lexer": "ipython3",
   "version": "3.9.12"
  }
 },
 "nbformat": 4,
 "nbformat_minor": 5
}
