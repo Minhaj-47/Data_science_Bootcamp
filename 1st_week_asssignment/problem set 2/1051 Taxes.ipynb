{
 "cells": [
  {
   "cell_type": "code",
   "execution_count": 1,
   "id": "a3f28c26",
   "metadata": {},
   "outputs": [],
   "source": [
    "# In an imaginary country called Lisarb, all the people are very happy to pay their taxes because they know that doesn’t exist corrupt politicians and the taxes are used to benefit the population, without any misappropriation. The currency of this country is Rombus, whose symbol is R$.\n",
    "\n",
    "# Read a value with 2 digits after the decimal point, equivalent to the salary of a Lisarb inhabitant. Then print the due value that this person must pay of taxes, according to the table below.\n",
    "\n",
    "\n",
    "\n",
    "# Remember, if the salary is R$ 3,002.00 for example, the rate of 8% is only over R$ 1,000.00, because the salary from R$ 0.00 to R$ 2,000.00 is tax free. In the follow example, the total rate is 8% over R$ 1000.00 + 18% over R$ 2.00, resulting in R$ 80.36 at all. The answer must be printed with 2 digits after the decimal point.\n",
    "\n",
    "# Input\n",
    "# The input contains only a float-point number, with 2 digits after the decimal point.\n",
    "\n",
    "# Output\n",
    "# Print the message \"R$\" followed by a blank space and the total tax to be payed, with two digits after the decimal point. If the value is up to 2000, print the message \"Isento\"."
   ]
  },
  {
   "cell_type": "code",
   "execution_count": 4,
   "id": "c21f172d",
   "metadata": {},
   "outputs": [
    {
     "name": "stdout",
     "output_type": "stream",
     "text": [
      "Give the salary:4520\n",
      "R$ 355.60\n"
     ]
    }
   ],
   "source": [
    "salary = float(input(\"Give the salary:\"))\n",
    "\n",
    "if(salary > 0.00 and salary <= 2000.00):\n",
    "    print(\"Isento\")\n",
    "elif(salary > 2000.00 and salary <= 3000.00):\n",
    "    taxable_salary = salary - 2000\n",
    "    result = taxable_salary * 0.08\n",
    "    print(f\"R$ {result:0.2f}\")\n",
    "elif(salary > 3000 and salary < 4500):\n",
    "    taxable_salary = salary - 3000\n",
    "    result = (taxable_salary * 0.18) + (1000 * 0.08)\n",
    "    print(f\"R$ {result:0.2f}\")\n",
    "else:\n",
    "    taxable_salary = salary - 4500\n",
    "    result = (taxable_salary * 0.28) + (1500 * 0.18) + (1000 * 0.08)\n",
    "    print(f\"R$ {result:0.2f}\")"
   ]
  },
  {
   "cell_type": "code",
   "execution_count": null,
   "id": "5acbdc58",
   "metadata": {},
   "outputs": [],
   "source": []
  }
 ],
 "metadata": {
  "kernelspec": {
   "display_name": "Python 3 (ipykernel)",
   "language": "python",
   "name": "python3"
  },
  "language_info": {
   "codemirror_mode": {
    "name": "ipython",
    "version": 3
   },
   "file_extension": ".py",
   "mimetype": "text/x-python",
   "name": "python",
   "nbconvert_exporter": "python",
   "pygments_lexer": "ipython3",
   "version": "3.9.12"
  }
 },
 "nbformat": 4,
 "nbformat_minor": 5
}
