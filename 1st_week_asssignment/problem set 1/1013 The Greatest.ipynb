{
 "cells": [
  {
   "cell_type": "code",
   "execution_count": 1,
   "id": "c8c9008c",
   "metadata": {},
   "outputs": [],
   "source": [
    "# Make a program that reads 3 integer values and present the greatest one followed by the message \"eh o maior\". Use the following formula:\n",
    "\n",
    "\n",
    "\n",
    "# Input\n",
    "# The input file contains 3 integer values.\n",
    "\n",
    "# Output\n",
    "# Print the greatest of these three values followed by a space and the message “eh o maior”"
   ]
  },
  {
   "cell_type": "code",
   "execution_count": 3,
   "id": "1a0353a8",
   "metadata": {},
   "outputs": [
    {
     "name": "stdout",
     "output_type": "stream",
     "text": [
      "Give 3 integer value7 14 106\n",
      "106 eh o maior\n"
     ]
    }
   ],
   "source": [
    "A,B,C= list(map(int,input(\"Give 3 integer value\").split()))\n",
    "maiorAB= int(((A+B+abs(A-B)))/2)\n",
    "result= int((maiorAB+C+abs(maiorAB-C))/2)\n",
    "print(f\"{result} eh o maior\")"
   ]
  },
  {
   "cell_type": "code",
   "execution_count": null,
   "id": "12cce95a",
   "metadata": {},
   "outputs": [],
   "source": []
  }
 ],
 "metadata": {
  "kernelspec": {
   "display_name": "Python 3 (ipykernel)",
   "language": "python",
   "name": "python3"
  },
  "language_info": {
   "codemirror_mode": {
    "name": "ipython",
    "version": 3
   },
   "file_extension": ".py",
   "mimetype": "text/x-python",
   "name": "python",
   "nbconvert_exporter": "python",
   "pygments_lexer": "ipython3",
   "version": "3.9.12"
  }
 },
 "nbformat": 4,
 "nbformat_minor": 5
}
