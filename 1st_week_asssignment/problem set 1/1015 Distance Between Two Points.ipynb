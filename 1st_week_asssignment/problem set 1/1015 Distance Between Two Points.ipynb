{
 "cells": [
  {
   "cell_type": "code",
   "execution_count": 1,
   "id": "f3bb5239",
   "metadata": {},
   "outputs": [],
   "source": [
    "# Read the four values corresponding to the x and y axes of two points in the plane, p1 (x1, y1) and p2 (x2, y2) and calculate the distance between them, showing four decimal places after the comma, according to the formula:\n",
    "\n",
    "# Distance = \n",
    "\n",
    "# Input\n",
    "# The input file contains two lines of data. The first one contains two double values: x1 y1 and the second one also contains two double values with one digit after the decimal point: x2 y2.\n",
    "\n",
    "# Output\n",
    "# Calculate and print the distance value using the provided formula, with 4 digits after the decimal point."
   ]
  },
  {
   "cell_type": "code",
   "execution_count": 2,
   "id": "d60e7bc4",
   "metadata": {},
   "outputs": [],
   "source": [
    "import math"
   ]
  },
  {
   "cell_type": "code",
   "execution_count": 3,
   "id": "d7ebf00e",
   "metadata": {},
   "outputs": [
    {
     "name": "stdout",
     "output_type": "stream",
     "text": [
      "Give the x and y value of p1: 1 7\n",
      "Give teh x and y value of p2: 5 9\n",
      "4.4721\n"
     ]
    }
   ],
   "source": [
    "x1,y1=list(map(float,input(\"Give the x and y value of p1: \").split()))\n",
    "x2,y2=list(map(float,input(\"Give teh x and y value of p2: \").split()))\n",
    "distance=math.sqrt(((x2-x1)*(x2-x1))+((y2-y1)*(y2-y1)))\n",
    "print(f\"{distance:.4f}\")"
   ]
  },
  {
   "cell_type": "code",
   "execution_count": null,
   "id": "66ee4dca",
   "metadata": {},
   "outputs": [],
   "source": []
  }
 ],
 "metadata": {
  "kernelspec": {
   "display_name": "Python 3 (ipykernel)",
   "language": "python",
   "name": "python3"
  },
  "language_info": {
   "codemirror_mode": {
    "name": "ipython",
    "version": 3
   },
   "file_extension": ".py",
   "mimetype": "text/x-python",
   "name": "python",
   "nbconvert_exporter": "python",
   "pygments_lexer": "ipython3",
   "version": "3.9.12"
  }
 },
 "nbformat": 4,
 "nbformat_minor": 5
}
