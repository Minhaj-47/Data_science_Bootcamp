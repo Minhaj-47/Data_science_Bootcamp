{
 "cells": [
  {
   "cell_type": "code",
   "execution_count": 1,
   "id": "f7b1bc76",
   "metadata": {},
   "outputs": [],
   "source": [
    "# The formula to calculate the area of a circumference is defined as A = π . R2. Considering to this problem that π = 3.14159:\n",
    "\n",
    "# Calculate the area using the formula given in the problem description.\n",
    "\n",
    "# Input\n",
    "# The input contains a value of floating point (double precision), that is the variable R.\n",
    "\n",
    "# Output\n",
    "# # Present the message \"A=\" followed by the value of the variable, as in the example bellow, with four places after the decimal point. Use all double precision variables. Like all the problems, don't forget to print the end of line after the result, otherwise you will receive \"Presentation Error\"."
   ]
  },
  {
   "cell_type": "code",
   "execution_count": 8,
   "id": "b45a3c16",
   "metadata": {},
   "outputs": [
    {
     "name": "stdout",
     "output_type": "stream",
     "text": [
      "Give the value of the radius:2\n",
      "A =  12.5664\n",
      "\n",
      "\n"
     ]
    }
   ],
   "source": [
    "π = 3.14159\n",
    "R = float(input(\"Give the value of the radius:\"))\n",
    "A = π*R*R\n",
    "print(\"A = \",round(A,4))\n",
    "print(\"\\n\")"
   ]
  },
  {
   "cell_type": "code",
   "execution_count": null,
   "id": "cc1b0007",
   "metadata": {},
   "outputs": [],
   "source": []
  }
 ],
 "metadata": {
  "kernelspec": {
   "display_name": "Python 3 (ipykernel)",
   "language": "python",
   "name": "python3"
  },
  "language_info": {
   "codemirror_mode": {
    "name": "ipython",
    "version": 3
   },
   "file_extension": ".py",
   "mimetype": "text/x-python",
   "name": "python",
   "nbconvert_exporter": "python",
   "pygments_lexer": "ipython3",
   "version": "3.9.12"
  }
 },
 "nbformat": 4,
 "nbformat_minor": 5
}
