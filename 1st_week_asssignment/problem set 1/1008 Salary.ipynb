{
 "cells": [
  {
   "cell_type": "code",
   "execution_count": 1,
   "id": "4c699b32",
   "metadata": {},
   "outputs": [],
   "source": [
    "# Write a program that reads an employee's number, his/her worked hours number in a month and the amount he received per hour. Print the employee's number and salary that he/she will receive at end of the month, with two decimal places.\n",
    "\n",
    "# Don’t forget to print the line's end after the result, otherwise you will receive “Presentation Error”.\n",
    "# Don’t forget the space before and after the equal signal and after the U$.\n",
    "# Input\n",
    "# The input file contains 2 integer numbers and 1 value of floating point, representing the number, worked hours amount and the amount the employee receives per worked hour.\n",
    "\n",
    "# Output\n",
    "# Print the number and the employee's salary, according to the given example, with a blank space before and after the equal signal."
   ]
  },
  {
   "cell_type": "code",
   "execution_count": 7,
   "id": "dea7df11",
   "metadata": {},
   "outputs": [
    {
     "name": "stdout",
     "output_type": "stream",
     "text": [
      "Give the employee  number: 25\n",
      "Give the employees worked hours number in a month: 100\n",
      "GIve the employyes salary per hour: 5.50\n",
      "NUMBER =  25\n",
      "SALARY = U$  550.00\n",
      "\n",
      "\n"
     ]
    }
   ],
   "source": [
    "A = int(input(\"Give the employee  number: \"))\n",
    "B=int(input(\"Give the employees worked hours number in a month: \"))\n",
    "C= float(input(\"GIve the employyes salary per hour: \"))\n",
    "salary = float(B*C)\n",
    "print(\"NUMBER = \",A)\n",
    "print(\"SALARY = U$ \",\"%.2f\"%salary)\n",
    "print(\"\\n\")\n"
   ]
  },
  {
   "cell_type": "code",
   "execution_count": null,
   "id": "8dd57732",
   "metadata": {},
   "outputs": [],
   "source": []
  },
  {
   "cell_type": "code",
   "execution_count": null,
   "id": "c209ff4f",
   "metadata": {},
   "outputs": [],
   "source": []
  }
 ],
 "metadata": {
  "kernelspec": {
   "display_name": "Python 3 (ipykernel)",
   "language": "python",
   "name": "python3"
  },
  "language_info": {
   "codemirror_mode": {
    "name": "ipython",
    "version": 3
   },
   "file_extension": ".py",
   "mimetype": "text/x-python",
   "name": "python",
   "nbconvert_exporter": "python",
   "pygments_lexer": "ipython3",
   "version": "3.9.12"
  }
 },
 "nbformat": 4,
 "nbformat_minor": 5
}
