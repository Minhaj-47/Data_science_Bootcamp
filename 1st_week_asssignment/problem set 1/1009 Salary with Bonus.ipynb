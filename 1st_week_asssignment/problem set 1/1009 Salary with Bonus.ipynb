{
 "cells": [
  {
   "cell_type": "code",
   "execution_count": 1,
   "id": "c59b2211",
   "metadata": {},
   "outputs": [],
   "source": [
    "# Make a program that reads a seller's name, his/her fixed salary and the sale's total made by himself/herself in the month (in money). Considering that this seller receives 15% over all products sold, write the final salary (total) of this seller at the end of the month , with two decimal places.\n",
    "\n",
    "# - Don’t forget to print the line's end after the result, otherwise you will receive “Presentation Error”.\n",
    "\n",
    "# - Don’t forget the blank spaces.\n",
    "\n",
    "# Input\n",
    "# The input file contains a text (employee's first name), and two double precision values, that are the seller's salary and the total value sold by him/her.\n",
    "\n",
    "# Output\n",
    "# Print the seller's total salary, according to the given example."
   ]
  },
  {
   "cell_type": "code",
   "execution_count": 9,
   "id": "1a4d3a41",
   "metadata": {},
   "outputs": [
    {
     "name": "stdout",
     "output_type": "stream",
     "text": [
      "GIve the seller name JOLAO\n",
      "Give the employes fixed salary: 500\n",
      "Give the empoyes sale count: 1230.30\n",
      "TOTAL = R$ 684.54\n"
     ]
    }
   ],
   "source": [
    "A = input(\"GIve the seller name \")\n",
    "\n",
    "B = float(input(\"Give the employes fixed salary: \"))\n",
    "C = float(input(\"Give the empoyes sale count: \"))\n",
    "bonus = float(C * (15/100))\n",
    "total = B + bonus\n",
    "print(f'TOTAL = R$ {total:.2f}') \n"
   ]
  },
  {
   "cell_type": "code",
   "execution_count": null,
   "id": "0f406bca",
   "metadata": {},
   "outputs": [],
   "source": []
  }
 ],
 "metadata": {
  "kernelspec": {
   "display_name": "Python 3 (ipykernel)",
   "language": "python",
   "name": "python3"
  },
  "language_info": {
   "codemirror_mode": {
    "name": "ipython",
    "version": 3
   },
   "file_extension": ".py",
   "mimetype": "text/x-python",
   "name": "python",
   "nbconvert_exporter": "python",
   "pygments_lexer": "ipython3",
   "version": "3.9.12"
  }
 },
 "nbformat": 4,
 "nbformat_minor": 5
}
