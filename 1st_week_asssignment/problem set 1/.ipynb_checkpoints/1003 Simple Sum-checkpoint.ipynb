{
 "cells": [
  {
   "cell_type": "code",
   "execution_count": 1,
   "id": "03c3c9a8",
   "metadata": {},
   "outputs": [],
   "source": [
    "# Read two integer values, in this case, the variables A and B. After this, calculate the sum between them and assign it to the variable SOMA. Write the value of this variable.\n",
    "\n",
    "# Input\n",
    "# The input file contains 2 integer numbers.\n",
    "\n",
    "# Output\n",
    "# Print the message \"SOMA\" with all the capital letters, with a blank space before and after the equal signal followed by the corresponding value to the sum of A and B. Like all the problems, don't forget to print the end of line, otherwise you will receive \"Presentation Error\"\n",
    "\n"
   ]
  },
  {
   "cell_type": "code",
   "execution_count": 2,
   "id": "2d26f487",
   "metadata": {},
   "outputs": [
    {
     "name": "stdout",
     "output_type": "stream",
     "text": [
      "Give the value of A: -10\n",
      "Give the value of B: 5\n",
      "SOMA =  -5\n",
      "\n",
      "\n"
     ]
    }
   ],
   "source": [
    "A =int(input(\"Give the value of A: \"))\n",
    "B= int(input(\"Give the value of B: \"))\n",
    "SOMA = A+B\n",
    "print(\"SOMA = \",SOMA)\n",
    "print(\"\\n\")"
   ]
  },
  {
   "cell_type": "code",
   "execution_count": null,
   "id": "c2b2d532",
   "metadata": {},
   "outputs": [],
   "source": []
  }
 ],
 "metadata": {
  "kernelspec": {
   "display_name": "Python 3 (ipykernel)",
   "language": "python",
   "name": "python3"
  },
  "language_info": {
   "codemirror_mode": {
    "name": "ipython",
    "version": 3
   },
   "file_extension": ".py",
   "mimetype": "text/x-python",
   "name": "python",
   "nbconvert_exporter": "python",
   "pygments_lexer": "ipython3",
   "version": "3.9.12"
  }
 },
 "nbformat": 4,
 "nbformat_minor": 5
}
