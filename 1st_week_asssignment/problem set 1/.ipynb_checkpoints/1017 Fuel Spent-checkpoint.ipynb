{
 "cells": [
  {
   "cell_type": "code",
   "execution_count": 1,
   "id": "bc9b0dd4",
   "metadata": {},
   "outputs": [],
   "source": [
    "# Little John wants to calculate and show the amount of spent fuel liters on a trip, using a car that does 12 Km/L. For this, he would like you to help him through a simple program. To perform the calculation, you have to read spent time (in hours) and the same average speed (km/h). In this way, you can get distance and then, calculate how many liters would be needed. Show the value with three decimal places after the point.\n",
    "\n",
    "# Input\n",
    "# The input file contains two integers. The first one is the spent time in the trip (in hours). The second one is the average speed during the trip (in Km/h).\n",
    "\n",
    "# Output\n",
    "# Print how many liters would be needed to do this trip, with three digits after the decimal point.\n",
    "\n"
   ]
  },
  {
   "cell_type": "code",
   "execution_count": 4,
   "id": "17474f14",
   "metadata": {},
   "outputs": [
    {
     "name": "stdout",
     "output_type": "stream",
     "text": [
      "GIve the trip spend time and the avg speed of the car: 10 85\n",
      "70.833\n"
     ]
    }
   ],
   "source": [
    "spendTime,avgSpeed= list(map(int,input(\"GIve the trip spend time and the avg speed of the car: \").split()))\n",
    "distanceCover=avgSpeed*spendTime\n",
    "fuelNeed= distanceCover/12.0\n",
    "print(f\"{fuelNeed:.3f}\")"
   ]
  },
  {
   "cell_type": "code",
   "execution_count": null,
   "id": "c0306627",
   "metadata": {},
   "outputs": [],
   "source": []
  }
 ],
 "metadata": {
  "kernelspec": {
   "display_name": "Python 3 (ipykernel)",
   "language": "python",
   "name": "python3"
  },
  "language_info": {
   "codemirror_mode": {
    "name": "ipython",
    "version": 3
   },
   "file_extension": ".py",
   "mimetype": "text/x-python",
   "name": "python",
   "nbconvert_exporter": "python",
   "pygments_lexer": "ipython3",
   "version": "3.9.12"
  }
 },
 "nbformat": 4,
 "nbformat_minor": 5
}
