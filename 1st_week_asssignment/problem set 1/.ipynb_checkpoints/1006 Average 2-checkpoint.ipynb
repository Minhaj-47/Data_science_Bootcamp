{
 "cells": [
  {
   "cell_type": "code",
   "execution_count": 1,
   "id": "398e5750",
   "metadata": {},
   "outputs": [],
   "source": [
    "# Read three values (variables A, B and C), which are the three student's grades. Then, calculate the average, considering that grade A has weight 2, grade B has weight 3 and the grade C has weight 5. Consider that each grade can go from 0 to 10.0, always with one decimal place.\n",
    "\n",
    "# Input\n",
    "# The input file contains 3 values of floating points (double) with one digit after the decimal point.\n",
    "\n",
    "# Output\n",
    "# Print the message \"MEDIA\"(average in Portuguese) and the student's average according to the following example, with a blank space before and after the equal signal."
   ]
  },
  {
   "cell_type": "code",
   "execution_count": 4,
   "id": "485c33bd",
   "metadata": {},
   "outputs": [
    {
     "name": "stdout",
     "output_type": "stream",
     "text": [
      "First student grade between zero to ten: 5 \n",
      "Second student grade between zero to ten: 10\n",
      "Third student grade between zero to ten: 10\n",
      "MEDIA =  9.0\n"
     ]
    }
   ],
   "source": [
    "A = float(input(\"First student grade between zero to ten: \"))\n",
    "B = float(input(\"Second student grade between zero to ten: \"))\n",
    "C = float(input(\"Third student grade between zero to ten: \"))\n",
    "average= ((A*2)+(B*3)+(C*5))/(2+3+5)\n",
    "print(\"MEDIA = \",average)"
   ]
  },
  {
   "cell_type": "code",
   "execution_count": null,
   "id": "e67d7449",
   "metadata": {},
   "outputs": [],
   "source": []
  },
  {
   "cell_type": "code",
   "execution_count": null,
   "id": "203b3e6a",
   "metadata": {},
   "outputs": [],
   "source": []
  }
 ],
 "metadata": {
  "kernelspec": {
   "display_name": "Python 3 (ipykernel)",
   "language": "python",
   "name": "python3"
  },
  "language_info": {
   "codemirror_mode": {
    "name": "ipython",
    "version": 3
   },
   "file_extension": ".py",
   "mimetype": "text/x-python",
   "name": "python",
   "nbconvert_exporter": "python",
   "pygments_lexer": "ipython3",
   "version": "3.9.12"
  }
 },
 "nbformat": 4,
 "nbformat_minor": 5
}
