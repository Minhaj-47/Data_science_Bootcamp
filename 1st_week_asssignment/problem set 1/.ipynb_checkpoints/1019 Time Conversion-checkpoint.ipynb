{
 "cells": [
  {
   "cell_type": "code",
   "execution_count": 1,
   "id": "13415160",
   "metadata": {},
   "outputs": [],
   "source": [
    "# Read an integer value, which is the duration in seconds of a certain event in a factory, and inform it expressed in hours:minutes:seconds.\n",
    "\n",
    "# Input\n",
    "# The input file contains an integer N.\n",
    "\n",
    "# Output\n",
    "# Print the read time in the input file (seconds) converted in hours:minutes:seconds like the following example."
   ]
  },
  {
   "cell_type": "code",
   "execution_count": 5,
   "id": "19f8cd2d",
   "metadata": {},
   "outputs": [
    {
     "name": "stdout",
     "output_type": "stream",
     "text": [
      "GIve a integer second value: 1\n",
      "0:0:1\n"
     ]
    }
   ],
   "source": [
    "N=int(input(\"GIve a integer second value: \"))\n",
    "hours=int(N/3600)\n",
    "N=N%3600\n",
    "minutes=int(N/60)\n",
    "N=N%60\n",
    "seconds=int(N)\n",
    "print(f\"{hours}:{minutes}:{seconds}\")"
   ]
  },
  {
   "cell_type": "code",
   "execution_count": null,
   "id": "f3910072",
   "metadata": {},
   "outputs": [],
   "source": []
  }
 ],
 "metadata": {
  "kernelspec": {
   "display_name": "Python 3 (ipykernel)",
   "language": "python",
   "name": "python3"
  },
  "language_info": {
   "codemirror_mode": {
    "name": "ipython",
    "version": 3
   },
   "file_extension": ".py",
   "mimetype": "text/x-python",
   "name": "python",
   "nbconvert_exporter": "python",
   "pygments_lexer": "ipython3",
   "version": "3.9.12"
  }
 },
 "nbformat": 4,
 "nbformat_minor": 5
}
