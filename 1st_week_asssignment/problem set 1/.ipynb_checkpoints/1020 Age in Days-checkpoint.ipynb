{
 "cells": [
  {
   "cell_type": "code",
   "execution_count": 1,
   "id": "f471e5fb",
   "metadata": {},
   "outputs": [],
   "source": [
    "# Read an integer value corresponding to a person's age (in days) and print it in years, months and days, followed by its respective message “ano(s)”, “mes(es)”, “dia(s)”.\n",
    "\n",
    "# Note: only to facilitate the calculation, consider the whole year with 365 days and 30 days every month. In the cases of test there will never be a situation that allows 12 months and some days, like 360, 363 or 364. This is just an exercise for the purpose of testing simple mathematical reasoning.\n",
    "\n",
    "# Input\n",
    "# The input file contains 1 integer value.\n",
    "\n",
    "# Output\n",
    "# Print the output, like the following example."
   ]
  },
  {
   "cell_type": "code",
   "execution_count": 3,
   "id": "93aaf77b",
   "metadata": {},
   "outputs": [
    {
     "name": "stdout",
     "output_type": "stream",
     "text": [
      "give the age in days: 800\n",
      "2 ano(s)\n",
      "2 mes(es)\n",
      "10 dia(s)\n"
     ]
    }
   ],
   "source": [
    "age=int(input(\"give the age in days: \"))\n",
    "year=int(age/365)\n",
    "age=age%365\n",
    "month=int(age/30)\n",
    "age=age%30\n",
    "day=int(age)\n",
    "print(f\"{year} ano(s)\")\n",
    "print(f\"{month} mes(es)\")\n",
    "print(f\"{day} dia(s)\")"
   ]
  },
  {
   "cell_type": "code",
   "execution_count": null,
   "id": "be817afd",
   "metadata": {},
   "outputs": [],
   "source": []
  },
  {
   "cell_type": "code",
   "execution_count": null,
   "id": "955ccb0b",
   "metadata": {},
   "outputs": [],
   "source": []
  }
 ],
 "metadata": {
  "kernelspec": {
   "display_name": "Python 3 (ipykernel)",
   "language": "python",
   "name": "python3"
  },
  "language_info": {
   "codemirror_mode": {
    "name": "ipython",
    "version": 3
   },
   "file_extension": ".py",
   "mimetype": "text/x-python",
   "name": "python",
   "nbconvert_exporter": "python",
   "pygments_lexer": "ipython3",
   "version": "3.9.12"
  }
 },
 "nbformat": 4,
 "nbformat_minor": 5
}
