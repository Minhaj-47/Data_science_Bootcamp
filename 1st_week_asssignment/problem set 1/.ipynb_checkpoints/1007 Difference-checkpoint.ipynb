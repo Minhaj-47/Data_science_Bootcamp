{
 "cells": [
  {
   "cell_type": "code",
   "execution_count": 1,
   "id": "3eb56bcb",
   "metadata": {},
   "outputs": [],
   "source": [
    "# Read four integer values named A, B, C and D. Calculate and print the difference of product A and B by the product of C and D (A * B - C * D).\n",
    "\n",
    "# Input\n",
    "# The input file contains 4 integer values.\n",
    "\n",
    "# Output\n",
    "# Print DIFERENCA (DIFFERENCE in Portuguese) with all the capital letters, according to the following example, with a blank space before and after the equal signal."
   ]
  },
  {
   "cell_type": "code",
   "execution_count": 3,
   "id": "5d7fc06e",
   "metadata": {},
   "outputs": [
    {
     "name": "stdout",
     "output_type": "stream",
     "text": [
      "Give the value of A: 5\n",
      "Give the value of B: 6\n",
      "Give the value of C: 7\n",
      "Give the value of D: 8\n",
      "DIFERENCA =  -26\n"
     ]
    }
   ],
   "source": [
    "A = int(input(\"Give the value of A: \"))\n",
    "B = int(input(\"Give the value of B: \"))\n",
    "C = int(input(\"Give the value of C: \"))\n",
    "D = int(input(\"Give the value of D: \"))\n",
    "difference = ((A*B)-(C*D))\n",
    "print(\"DIFERENCA = \",difference)"
   ]
  },
  {
   "cell_type": "code",
   "execution_count": null,
   "id": "69ae2870",
   "metadata": {},
   "outputs": [],
   "source": []
  },
  {
   "cell_type": "code",
   "execution_count": null,
   "id": "afd519b4",
   "metadata": {},
   "outputs": [],
   "source": []
  }
 ],
 "metadata": {
  "kernelspec": {
   "display_name": "Python 3 (ipykernel)",
   "language": "python",
   "name": "python3"
  },
  "language_info": {
   "codemirror_mode": {
    "name": "ipython",
    "version": 3
   },
   "file_extension": ".py",
   "mimetype": "text/x-python",
   "name": "python",
   "nbconvert_exporter": "python",
   "pygments_lexer": "ipython3",
   "version": "3.9.12"
  }
 },
 "nbformat": 4,
 "nbformat_minor": 5
}
