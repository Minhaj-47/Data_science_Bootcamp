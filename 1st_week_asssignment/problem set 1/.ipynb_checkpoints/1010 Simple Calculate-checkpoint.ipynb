{
 "cells": [
  {
   "cell_type": "code",
   "execution_count": 1,
   "id": "b6bc2caf",
   "metadata": {},
   "outputs": [],
   "source": [
    "# In this problem, the task is to read a code of a product 1, the number of units of product 1, the price for one unit of product 1, the code of a product 2, the number of units of product 2 and the price for one unit of product 2. After this, calculate and show the amount to be paid.\n",
    "\n",
    "# Input\n",
    "# The input file contains two lines of data. In each line there will be 3 values: two integers and a floating value with 2 digits after the decimal point.\n",
    "\n",
    "# Output\n",
    "# The output file must be a message like the following example where \"Valor a pagar\" means Value to Pay. Remember the space after \":\" and after \"R$\" symbol. The value must be presented with 2 digits after the point."
   ]
  },
  {
   "cell_type": "code",
   "execution_count": 6,
   "id": "84e199a8",
   "metadata": {},
   "outputs": [
    {
     "name": "stdout",
     "output_type": "stream",
     "text": [
      "product 1 ,product unit,per unit price12 1 5.30\n",
      "product 2 ,product unit,per unit price16 2 5.10\n",
      "VALOR A PAGAR: R$ 15.50\n"
     ]
    }
   ],
   "source": [
    "A = input(\"product 1 ,product unit,per unit price\").split(\" \")\n",
    "B = input(\"product 2 ,product unit,per unit price\").split(\" \")\n",
    "code1,unitCount1,unitPrice1 = A\n",
    "code2,unitCount2,unitPrice2 = B\n",
    "total= ((int(unitCount1)*float(unitPrice1))+(int(unitCount2)*float(unitPrice2)))\n",
    "\n",
    "print(f\"VALOR A PAGAR: R$ {total:.2f}\")\n"
   ]
  },
  {
   "cell_type": "code",
   "execution_count": null,
   "id": "0af8b173",
   "metadata": {},
   "outputs": [],
   "source": []
  }
 ],
 "metadata": {
  "kernelspec": {
   "display_name": "Python 3 (ipykernel)",
   "language": "python",
   "name": "python3"
  },
  "language_info": {
   "codemirror_mode": {
    "name": "ipython",
    "version": 3
   },
   "file_extension": ".py",
   "mimetype": "text/x-python",
   "name": "python",
   "nbconvert_exporter": "python",
   "pygments_lexer": "ipython3",
   "version": "3.9.12"
  }
 },
 "nbformat": 4,
 "nbformat_minor": 5
}
