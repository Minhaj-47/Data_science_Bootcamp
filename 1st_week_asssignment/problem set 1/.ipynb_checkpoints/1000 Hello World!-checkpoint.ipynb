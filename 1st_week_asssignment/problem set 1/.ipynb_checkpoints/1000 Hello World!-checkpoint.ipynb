{
 "cells": [
  {
   "cell_type": "code",
   "execution_count": 2,
   "id": "20b2d7c0",
   "metadata": {},
   "outputs": [
    {
     "name": "stdout",
     "output_type": "stream",
     "text": [
      " Hello World!\n",
      "\n",
      "\n"
     ]
    }
   ],
   "source": [
    "# Welcome to beecrowd!\n",
    "\n",
    "# Your first program in any programming language is usually \"Hello World!\". In this first problem all you have to do is print this message on the screen.\n",
    "\n",
    "# Input\n",
    "# This problem has no input.\n",
    "\n",
    "# Output\n",
    "# You must print the message Hello World! and then the endline as shown below.\n",
    "\n",
    "\n",
    "print(\" Hello World!\")\n",
    "print(\"\\n\")"
   ]
  },
  {
   "cell_type": "code",
   "execution_count": null,
   "id": "62b0a598",
   "metadata": {},
   "outputs": [],
   "source": []
  }
 ],
 "metadata": {
  "kernelspec": {
   "display_name": "Python 3 (ipykernel)",
   "language": "python",
   "name": "python3"
  },
  "language_info": {
   "codemirror_mode": {
    "name": "ipython",
    "version": 3
   },
   "file_extension": ".py",
   "mimetype": "text/x-python",
   "name": "python",
   "nbconvert_exporter": "python",
   "pygments_lexer": "ipython3",
   "version": "3.9.12"
  }
 },
 "nbformat": 4,
 "nbformat_minor": 5
}
