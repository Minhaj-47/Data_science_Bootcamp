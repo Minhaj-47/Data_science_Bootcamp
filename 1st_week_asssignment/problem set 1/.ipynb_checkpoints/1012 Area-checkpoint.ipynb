{
 "cells": [
  {
   "cell_type": "code",
   "execution_count": 1,
   "id": "2898eeea",
   "metadata": {},
   "outputs": [],
   "source": [
    "# Make a program that reads three floating point values: A, B and C. Then, calculate and show:\n",
    "# a) the area of the rectangled triangle that has base A and height C.\n",
    "# b) the area of the radius's circle C. (pi = 3.14159)\n",
    "# c) the area of the trapezium which has A and B by base, and C by height.\n",
    "# d) the area of ​​the square that has side B.\n",
    "# e) the area of the rectangle that has sides A and B.\n",
    "\n",
    "# Input\n",
    "# The input file contains three double values with one digit after the decimal point.\n",
    "\n",
    "# Output\n",
    "# The output file must contain 5 lines of data. Each line corresponds to one of the areas described above, always with a corresponding message (in Portuguese) and one space between the two points and the value. The value calculated must be presented with 3 digits after the decimal point."
   ]
  },
  {
   "cell_type": "code",
   "execution_count": 9,
   "id": "59586139",
   "metadata": {},
   "outputs": [
    {
     "name": "stdout",
     "output_type": "stream",
     "text": [
      "give the value of A,B,C3.0 4.0 5.2\n",
      "TRIANGULO: 7.800\n",
      "CIRCULO: 84.949\n",
      "TRAPEZIO: 18.200\n",
      "QUADRADO: 16.000\n",
      "RETANGULO: 12.000\n"
     ]
    }
   ],
   "source": [
    "A,B,C = list(map(float,input(\"give the value of A,B,C\").split()))\n",
    "triangle = 0.5*A*C\n",
    "circle = 3.14159*C*C\n",
    "trapezium = ((A+B)/2.0)*C\n",
    "square =B*B\n",
    "rectangle=A*B\n",
    "print(f\"TRIANGULO: {triangle:.3f}\")\n",
    "print(f\"CIRCULO: {circle:.3f}\")\n",
    "print(f\"TRAPEZIO: {trapezium:.3f}\")\n",
    "print(f\"QUADRADO: {square:.3f}\")\n",
    "print(f\"RETANGULO: {rectangle:.3f}\")\n"
   ]
  },
  {
   "cell_type": "markdown",
   "id": "49f91657",
   "metadata": {},
   "source": []
  }
 ],
 "metadata": {
  "kernelspec": {
   "display_name": "Python 3 (ipykernel)",
   "language": "python",
   "name": "python3"
  },
  "language_info": {
   "codemirror_mode": {
    "name": "ipython",
    "version": 3
   },
   "file_extension": ".py",
   "mimetype": "text/x-python",
   "name": "python",
   "nbconvert_exporter": "python",
   "pygments_lexer": "ipython3",
   "version": "3.9.12"
  }
 },
 "nbformat": 4,
 "nbformat_minor": 5
}
