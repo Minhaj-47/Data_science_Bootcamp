{
 "cells": [
  {
   "cell_type": "code",
   "execution_count": 1,
   "id": "2a94ff92",
   "metadata": {},
   "outputs": [],
   "source": [
    "# Read 2 variables, named A and B and make the sum of these two variables, assigning its result to the variable X. Print X as shown below. Print endline after the result otherwise you will get “Presentation Error”.\n",
    "\n",
    "# Input\n",
    "# The input file will contain 2 integer numbers.\n",
    "\n",
    "# Output\n",
    "# Print the letter X (uppercase) with a blank space before and after the equal signal followed by the value of X, according to the following example.\n",
    "\n",
    "# Obs.: don't forget the endline after all."
   ]
  },
  {
   "cell_type": "code",
   "execution_count": 8,
   "id": "e93ec8f0",
   "metadata": {},
   "outputs": [
    {
     "name": "stdout",
     "output_type": "stream",
     "text": [
      "Give the value of A:10\n",
      "Give the value of B:9\n",
      "X =  19\n",
      "\n",
      "\n"
     ]
    }
   ],
   "source": [
    "A=int(input(\"Give the value of A:\"))\n",
    "B=int(input(\"Give the value of B:\"))\n",
    "X=A+B\n",
    "print(\"X = \",X)\n",
    "print(\"\\n\")"
   ]
  },
  {
   "cell_type": "code",
   "execution_count": null,
   "id": "117aa732",
   "metadata": {},
   "outputs": [],
   "source": []
  }
 ],
 "metadata": {
  "kernelspec": {
   "display_name": "Python 3 (ipykernel)",
   "language": "python",
   "name": "python3"
  },
  "language_info": {
   "codemirror_mode": {
    "name": "ipython",
    "version": 3
   },
   "file_extension": ".py",
   "mimetype": "text/x-python",
   "name": "python",
   "nbconvert_exporter": "python",
   "pygments_lexer": "ipython3",
   "version": "3.9.12"
  }
 },
 "nbformat": 4,
 "nbformat_minor": 5
}
