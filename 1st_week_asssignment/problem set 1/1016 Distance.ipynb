{
 "cells": [
  {
   "cell_type": "code",
   "execution_count": 1,
   "id": "0dac3aca",
   "metadata": {},
   "outputs": [],
   "source": [
    "# Two cars (X and Y) leave in the same direction. The car X leaves with a constant speed of 60 km/h and the car Y leaves with a constant speed of 90 km / h.\n",
    "\n",
    "# In one hour (60 minutes) the car Y can get a distance of 30 kilometers from the X car, in other words, it can get away one kilometer for each 2 minutes.\n",
    "\n",
    "# Read the distance (in km) and calculate how long it takes (in minutes) for the car Y to take this distance in relation to the other car.\n",
    "\n",
    "# Input\n",
    "# The input file contains 1 integer value.\n",
    "\n",
    "# Output\n",
    "# Print the necessary time followed by the message \"minutos\" that means minutes in Portuguese."
   ]
  },
  {
   "cell_type": "code",
   "execution_count": 2,
   "id": "ec51b9b5",
   "metadata": {},
   "outputs": [
    {
     "name": "stdout",
     "output_type": "stream",
     "text": [
      "Give the distance to cover: 30\n",
      "60 minutos\n"
     ]
    }
   ],
   "source": [
    "distance = int(input(\"Give the distance to cover: \"))\n",
    "timeTaken= distance*2\n",
    "print(f\"{timeTaken} minutos\")"
   ]
  },
  {
   "cell_type": "code",
   "execution_count": null,
   "id": "2f7c08d5",
   "metadata": {},
   "outputs": [],
   "source": []
  }
 ],
 "metadata": {
  "kernelspec": {
   "display_name": "Python 3 (ipykernel)",
   "language": "python",
   "name": "python3"
  },
  "language_info": {
   "codemirror_mode": {
    "name": "ipython",
    "version": 3
   },
   "file_extension": ".py",
   "mimetype": "text/x-python",
   "name": "python",
   "nbconvert_exporter": "python",
   "pygments_lexer": "ipython3",
   "version": "3.9.12"
  }
 },
 "nbformat": 4,
 "nbformat_minor": 5
}
