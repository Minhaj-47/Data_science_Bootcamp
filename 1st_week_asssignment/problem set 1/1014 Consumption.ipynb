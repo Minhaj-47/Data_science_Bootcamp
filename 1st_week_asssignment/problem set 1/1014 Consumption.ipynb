{
 "cells": [
  {
   "cell_type": "code",
   "execution_count": 1,
   "id": "85a8e1a8",
   "metadata": {},
   "outputs": [],
   "source": [
    "# Calculate a car's average consumption being provided the total distance traveled (in Km) and the spent fuel total (in liters).\n",
    "\n",
    "# Input\n",
    "# The input file contains two values: one integer value X representing the total distance (in Km) and the second one is a floating point number Y  representing the spent fuel total, with a digit after the decimal point.\n",
    "\n",
    "# Output\n",
    "# Present a value that represents the average consumption of a car with 3 digits after the decimal point, followed by the message \"km/l\".\n",
    "\n"
   ]
  },
  {
   "cell_type": "code",
   "execution_count": 2,
   "id": "02893f23",
   "metadata": {},
   "outputs": [
    {
     "name": "stdout",
     "output_type": "stream",
     "text": [
      "GIve the cars total distance coverered: 500\n",
      "Give the spend fuel35\n",
      "14.286 km/l\n"
     ]
    }
   ],
   "source": [
    "X=int(input(\"GIve the cars total distance coverered: \"))\n",
    "Y=float(input(\"Give the spend fuel\"))\n",
    "avgConsumption = float(X/Y)\n",
    "print(f\"{avgConsumption:.3f} km/l\")"
   ]
  },
  {
   "cell_type": "code",
   "execution_count": null,
   "id": "7f2ccb50",
   "metadata": {},
   "outputs": [],
   "source": []
  }
 ],
 "metadata": {
  "kernelspec": {
   "display_name": "Python 3 (ipykernel)",
   "language": "python",
   "name": "python3"
  },
  "language_info": {
   "codemirror_mode": {
    "name": "ipython",
    "version": 3
   },
   "file_extension": ".py",
   "mimetype": "text/x-python",
   "name": "python",
   "nbconvert_exporter": "python",
   "pygments_lexer": "ipython3",
   "version": "3.9.12"
  }
 },
 "nbformat": 4,
 "nbformat_minor": 5
}
