{
 "cells": [
  {
   "cell_type": "code",
   "execution_count": 1,
   "id": "a603c00a",
   "metadata": {},
   "outputs": [],
   "source": [
    "# Read 4 integer values A, B, C and D. Then if B is greater than C and D is greater than A and if the sum of C and D is greater than the sum of A and B and if C and D were positives values and if A is even, write the message “Valores aceitos” (Accepted values). Otherwise, write the message “Valores nao aceitos” (Values not accepted).\n",
    "\n",
    "# Input\n",
    "# Four integer numbers A, B, C and D.\n",
    "\n",
    "# Output\n",
    "# Show the corresponding message after the validation of the values​​."
   ]
  },
  {
   "cell_type": "code",
   "execution_count": 5,
   "id": "d8c66a8d",
   "metadata": {},
   "outputs": [
    {
     "name": "stdout",
     "output_type": "stream",
     "text": [
      "Give four integers: 2 3 2 6\n",
      "Valores aceitos\n"
     ]
    }
   ],
   "source": [
    "A,B,C,D= list(map(int,input(\"Give four integers: \").split()))\n",
    "if(A%2==0 and B>C and D>A and (C+D)>(A+B) and C>0 and D>0 ):\n",
    "    print(\"Valores aceitos\")\n",
    "else:\n",
    "    print(\"Valores nao aceitos\")"
   ]
  },
  {
   "cell_type": "code",
   "execution_count": null,
   "id": "aa95cd26",
   "metadata": {},
   "outputs": [],
   "source": []
  }
 ],
 "metadata": {
  "kernelspec": {
   "display_name": "Python 3 (ipykernel)",
   "language": "python",
   "name": "python3"
  },
  "language_info": {
   "codemirror_mode": {
    "name": "ipython",
    "version": 3
   },
   "file_extension": ".py",
   "mimetype": "text/x-python",
   "name": "python",
   "nbconvert_exporter": "python",
   "pygments_lexer": "ipython3",
   "version": "3.9.12"
  }
 },
 "nbformat": 4,
 "nbformat_minor": 5
}
