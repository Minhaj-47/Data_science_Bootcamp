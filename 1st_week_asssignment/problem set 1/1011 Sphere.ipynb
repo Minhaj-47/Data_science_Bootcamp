{
 "cells": [
  {
   "cell_type": "code",
   "execution_count": 1,
   "id": "a86cc964",
   "metadata": {},
   "outputs": [],
   "source": [
    "# Make a program that calculates and shows the volume of a sphere being provided the value of its radius (R) . The formula to calculate the volume is: (4/3) * pi * R3. Consider (assign) for pi the value 3.14159.\n",
    "\n",
    "# Tip: Use (4/3.0) or (4.0/3) in your formula, because some languages (including C++) assume that the division's result between two integers is another integer. :)\n",
    "\n",
    "# Input\n",
    "# The input contains a value of floating point (double precision).\n",
    "\n",
    "# Output\n",
    "# The output must be a message \"VOLUME\" like the following example with a space before and after the equal signal. The value must be presented with 3 digits after the decimal point."
   ]
  },
  {
   "cell_type": "code",
   "execution_count": 3,
   "id": "7a8b0a12",
   "metadata": {},
   "outputs": [
    {
     "name": "stdout",
     "output_type": "stream",
     "text": [
      "give the sphere radius: 1523\n",
      "VOLUME = 14797486501.627\n"
     ]
    }
   ],
   "source": [
    "pi =3.14159\n",
    "radius=float(input(\"give the sphere radius: \"))\n",
    "volume = (4.0/3)*pi*radius*radius*radius\n",
    "print(f\"VOLUME = {volume:.3f}\")"
   ]
  },
  {
   "cell_type": "code",
   "execution_count": null,
   "id": "5d418beb",
   "metadata": {},
   "outputs": [],
   "source": []
  }
 ],
 "metadata": {
  "kernelspec": {
   "display_name": "Python 3 (ipykernel)",
   "language": "python",
   "name": "python3"
  },
  "language_info": {
   "codemirror_mode": {
    "name": "ipython",
    "version": 3
   },
   "file_extension": ".py",
   "mimetype": "text/x-python",
   "name": "python",
   "nbconvert_exporter": "python",
   "pygments_lexer": "ipython3",
   "version": "3.9.12"
  }
 },
 "nbformat": 4,
 "nbformat_minor": 5
}
