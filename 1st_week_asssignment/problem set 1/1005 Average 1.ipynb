{
 "cells": [
  {
   "cell_type": "code",
   "execution_count": 1,
   "id": "1ddad1bc",
   "metadata": {},
   "outputs": [],
   "source": [
    "# Read two floating points' values of double precision A and B, corresponding to two student's grades. After this, calculate the student's average, considering that grade A has weight 3.5 and B has weight 7.5. Each grade can be from zero to ten, always with one digit after the decimal point. Don’t forget to print the end of line after the result, otherwise you will receive “Presentation Error”. Don’t forget the space before and after the equal sign.\n",
    "\n",
    "# Input\n",
    "# The input file contains 2 floating points' values with one digit after the decimal point.\n",
    "\n",
    "# Output\n",
    "# Print the message \"MEDIA\"(average in Portuguese) and the student's average according to the following example, with 5 digits after the decimal point and with a blank space before and after the equal signal."
   ]
  },
  {
   "cell_type": "code",
   "execution_count": 2,
   "id": "1a095d74",
   "metadata": {},
   "outputs": [
    {
     "name": "stdout",
     "output_type": "stream",
     "text": [
      "Give a Grade for first student between zero to ten:5\n",
      "Give a Grade for second student between zero to ten:7.1\n",
      "MEDIA =  6.43182\n",
      "\n",
      "\n"
     ]
    }
   ],
   "source": [
    "A = float(input(\"Give a Grade for first student between zero to ten:\"))\n",
    "B= float(input(\"Give a Grade for second student between zero to ten:\"))\n",
    "average =((A*3.5)+(B*7.5))/(3.5+7.5)\n",
    "print(\"MEDIA = \",round(average,5))\n",
    "print('\\n')"
   ]
  },
  {
   "cell_type": "code",
   "execution_count": null,
   "id": "41a9b975",
   "metadata": {},
   "outputs": [],
   "source": []
  }
 ],
 "metadata": {
  "kernelspec": {
   "display_name": "Python 3 (ipykernel)",
   "language": "python",
   "name": "python3"
  },
  "language_info": {
   "codemirror_mode": {
    "name": "ipython",
    "version": 3
   },
   "file_extension": ".py",
   "mimetype": "text/x-python",
   "name": "python",
   "nbconvert_exporter": "python",
   "pygments_lexer": "ipython3",
   "version": "3.9.12"
  }
 },
 "nbformat": 4,
 "nbformat_minor": 5
}
