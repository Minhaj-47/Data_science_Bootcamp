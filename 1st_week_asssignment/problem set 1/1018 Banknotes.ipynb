{
 "cells": [
  {
   "cell_type": "code",
   "execution_count": 1,
   "id": "277f0ef1",
   "metadata": {},
   "outputs": [],
   "source": [
    "# In this problem you have to read an integer value and calculate the smallest possible number of banknotes in which the value may be decomposed. The possible banknotes are 100, 50, 20, 10, 5, 2 e 1. Print the read value and the list of banknotes.\n",
    "\n",
    "# Input\n",
    "# The input file contains an integer value N (0 < N < 1000000).\n",
    "\n",
    "# Output\n",
    "# Print the read number and the minimum quantity of each necessary banknotes in Portuguese language, as the given example. Do not forget to print the end of line after each line, otherwise you will receive “Presentation Error”."
   ]
  },
  {
   "cell_type": "code",
   "execution_count": 10,
   "id": "082c64d1",
   "metadata": {},
   "outputs": [
    {
     "name": "stdout",
     "output_type": "stream",
     "text": [
      "give an integer value: 576\n",
      "5 nota(s) de R$ 100,00\n",
      "1 nota(s) de R$ 50,00\n",
      "1 nota(s) de R$ 20,00\n",
      "0 nota(s) de R$ 10,00\n",
      "1 nota(s) de R$ 5,00\n",
      "0 nota(s) de R$ 2,00\n",
      "1 nota(s) de R$ 1,00\n"
     ]
    }
   ],
   "source": [
    "note100=0\n",
    "note50=0\n",
    "note20=0\n",
    "note10=0\n",
    "note5=0\n",
    "note2=0\n",
    "note1=0\n",
    "N = int(input(\"give an integer value: \"))\n",
    "while N!=0:\n",
    "    if((N/100)>=1):\n",
    "        note100=int(N/100)\n",
    "        N=N%100\n",
    "    elif((N/50)>=1):\n",
    "        note50=int(N/50)\n",
    "        N=N%50\n",
    "    elif((N/20)>=1):\n",
    "        note20=int(N/20)\n",
    "        N=N%20\n",
    "    elif((N/10)>=1):\n",
    "        note10=int(N/10)\n",
    "        N=N%10\n",
    "    elif((N/5)>=1):\n",
    "        note5=int(N/5)\n",
    "        N=N%5\n",
    "    elif((N/2)>=1):\n",
    "        note2=int(N/2)\n",
    "        N=N%2\n",
    "    else:\n",
    "        note1=int(N/1)\n",
    "        N=N%1\n",
    "print(f\"{note100} nota(s) de R$ 100,00\")\n",
    "print(f\"{note50} nota(s) de R$ 50,00\")\n",
    "print(f\"{note20} nota(s) de R$ 20,00\")\n",
    "print(f\"{note10} nota(s) de R$ 10,00\")\n",
    "print(f\"{note5} nota(s) de R$ 5,00\")\n",
    "print(f\"{note2} nota(s) de R$ 2,00\")\n",
    "print(f\"{note1} nota(s) de R$ 1,00\")"
   ]
  },
  {
   "cell_type": "code",
   "execution_count": null,
   "id": "59722b3a",
   "metadata": {},
   "outputs": [],
   "source": []
  }
 ],
 "metadata": {
  "kernelspec": {
   "display_name": "Python 3 (ipykernel)",
   "language": "python",
   "name": "python3"
  },
  "language_info": {
   "codemirror_mode": {
    "name": "ipython",
    "version": 3
   },
   "file_extension": ".py",
   "mimetype": "text/x-python",
   "name": "python",
   "nbconvert_exporter": "python",
   "pygments_lexer": "ipython3",
   "version": "3.9.12"
  }
 },
 "nbformat": 4,
 "nbformat_minor": 5
}
