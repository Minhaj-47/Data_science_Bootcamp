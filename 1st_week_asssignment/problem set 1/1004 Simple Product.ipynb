{
 "cells": [
  {
   "cell_type": "code",
   "execution_count": null,
   "id": "8277456d",
   "metadata": {},
   "outputs": [],
   "source": [
    "# Read two integer values. After this, calculate the product between them and store the result in a variable named PROD. Print the result like the example below. Do not forget to print the end of line after the result, otherwise you will receive “Presentation Error”.\n",
    "\n",
    "# Input\n",
    "# The input file contains 2 integer numbers.\n",
    "\n",
    "# Output\n",
    "# Print the message \"PROD\" and PROD according to the following example, with a blank space before and after the equal signa"
   ]
  },
  {
   "cell_type": "code",
   "execution_count": 3,
   "id": "8e8f60ee",
   "metadata": {},
   "outputs": [
    {
     "name": "stdout",
     "output_type": "stream",
     "text": [
      "Give the value of A: 3\n",
      "Give the value of B: 9\n",
      "PROD =  27\n",
      "\n",
      "\n"
     ]
    }
   ],
   "source": [
    "A= int(input(\"Give the value of A: \"))\n",
    "B = int(input(\"Give the value of B: \"))\n",
    "PROD=A*B\n",
    "print(\"PROD = \",PROD)\n",
    "print(\"\\n\")"
   ]
  },
  {
   "cell_type": "code",
   "execution_count": null,
   "id": "e7de0733",
   "metadata": {},
   "outputs": [],
   "source": []
  }
 ],
 "metadata": {
  "kernelspec": {
   "display_name": "Python 3 (ipykernel)",
   "language": "python",
   "name": "python3"
  },
  "language_info": {
   "codemirror_mode": {
    "name": "ipython",
    "version": 3
   },
   "file_extension": ".py",
   "mimetype": "text/x-python",
   "name": "python",
   "nbconvert_exporter": "python",
   "pygments_lexer": "ipython3",
   "version": "3.9.12"
  }
 },
 "nbformat": 4,
 "nbformat_minor": 5
}
