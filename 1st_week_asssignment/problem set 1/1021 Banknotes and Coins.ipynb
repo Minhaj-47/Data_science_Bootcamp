{
 "cells": [
  {
   "cell_type": "code",
   "execution_count": 1,
   "id": "511ddf61",
   "metadata": {},
   "outputs": [],
   "source": [
    "# Read a value of floating point with two decimal places. This represents a monetary value. After this, calculate the smallest possible number of notes and coins on which the value can be decomposed. The considered notes are of 100, 50, 20, 10, 5, 2. The possible coins are of 1, 0.50, 0.25, 0.10, 0.05 and 0.01. Print the message “NOTAS:” followed by the list of notes and the message “MOEDAS:” followed by the list of coins.\n",
    "\n",
    "# Input\n",
    "# The input file contains a value of floating point N (0 ≤ N ≤ 1000000.00).\n",
    "\n",
    "# Output\n",
    "# Print the minimum quantity of banknotes and coins necessary to change the initial value, as the given example."
   ]
  },
  {
   "cell_type": "code",
   "execution_count": 4,
   "id": "166be3ba",
   "metadata": {},
   "outputs": [
    {
     "name": "stdout",
     "output_type": "stream",
     "text": [
      "Give a float number: 576.73\n",
      "NOTAS: \n",
      "5 nota(s) de R$ 100,00\n",
      "1 nota(s) de R$ 50,00\n",
      "1 nota(s) de R$ 20,00\n",
      "0 nota(s) de R$ 10,00\n",
      "1 nota(s) de R$ 5,00\n",
      "0 nota(s) de R$ 2,00\n",
      "MOEDAS: \n",
      "1 moeda(s) de R$ 1.00\n",
      "1 moeda(s) de R$ o.50\n",
      "0 moeda(s) de R$ o.25\n",
      "2 moeda(s) de R$ o.10\n",
      "0 moeda(s) de R$ o.05\n",
      "3 moeda(s) de R$ o.10\n"
     ]
    }
   ],
   "source": [
    "N=float(input(\"Give a float number: \"))\n",
    "remainingValue=N\n",
    "\n",
    "note100=int(remainingValue/100)\n",
    "remainingValue=remainingValue%100\n",
    "\n",
    "note50=int(remainingValue/50)\n",
    "remainingValue=remainingValue%50\n",
    "\n",
    "note20=int(remainingValue/20)\n",
    "remainingValue=remainingValue%20\n",
    "\n",
    "note10=int(remainingValue/10)\n",
    "remainingValue=remainingValue%10\n",
    "\n",
    "note5=int(remainingValue/5)\n",
    "remainingValue=remainingValue%5\n",
    "\n",
    "note2=int(remainingValue/2)\n",
    "remainingValue=remainingValue%2\n",
    "\n",
    "coin1=int(remainingValue/1)\n",
    "remainingValue=remainingValue%1\n",
    "\n",
    "\n",
    "coinPoint50=int(remainingValue/0.50)\n",
    "remainingValue=remainingValue%0.5\n",
    "\n",
    "coinPoint25=int(remainingValue/0.25)\n",
    "remainingValue=remainingValue%0.25\n",
    "\n",
    "coinPoint10=int(remainingValue/0.10)\n",
    "remainingValue=remainingValue%0.10\n",
    "\n",
    "coinPoint05=int(remainingValue/0.05)\n",
    "remainingValue=remainingValue%0.05\n",
    "\n",
    "coinPoint01=int(remainingValue/0.01)\n",
    "\n",
    "print(\"NOTAS: \")\n",
    "print(f\"{note100} nota(s) de R$ 100,00\")\n",
    "print(f\"{note50} nota(s) de R$ 50,00\")\n",
    "print(f\"{note20} nota(s) de R$ 20,00\")\n",
    "print(f\"{note10} nota(s) de R$ 10,00\")\n",
    "print(f\"{note5} nota(s) de R$ 5,00\")\n",
    "print(f\"{note2} nota(s) de R$ 2,00\")\n",
    "\n",
    "print(\"MOEDAS: \")\n",
    "print(f\"{coin1} moeda(s) de R$ 1.00\")\n",
    "print(f\"{coinPoint50} moeda(s) de R$ o.50\")\n",
    "print(f\"{coinPoint25} moeda(s) de R$ o.25\")\n",
    "print(f\"{coinPoint10} moeda(s) de R$ o.10\")\n",
    "print(f\"{coinPoint05} moeda(s) de R$ o.05\")\n",
    "print(f\"{coinPoint01} moeda(s) de R$ o.10\")\n",
    "\n"
   ]
  },
  {
   "cell_type": "code",
   "execution_count": null,
   "id": "6a580211",
   "metadata": {},
   "outputs": [],
   "source": []
  }
 ],
 "metadata": {
  "kernelspec": {
   "display_name": "Python 3 (ipykernel)",
   "language": "python",
   "name": "python3"
  },
  "language_info": {
   "codemirror_mode": {
    "name": "ipython",
    "version": 3
   },
   "file_extension": ".py",
   "mimetype": "text/x-python",
   "name": "python",
   "nbconvert_exporter": "python",
   "pygments_lexer": "ipython3",
   "version": "3.9.12"
  }
 },
 "nbformat": 4,
 "nbformat_minor": 5
}
