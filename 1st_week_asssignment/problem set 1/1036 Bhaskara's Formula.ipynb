{
 "cells": [
  {
   "cell_type": "code",
   "execution_count": 1,
   "id": "b323c36e",
   "metadata": {},
   "outputs": [],
   "source": [
    "# Read 3 floating-point numbers. After, print the roots of bhaskara’s formula. If it's impossible to calculate the roots because a division by zero or a square root of a negative number, presents the message “Impossivel calcular”.\n",
    "\n",
    "# Input\n",
    "# Read 3 floating-point numbers (double) A, B and C.\n",
    "\n",
    "# Output\n",
    "# Print the result with 5 digits after the decimal point or the message if it is impossible to calculate."
   ]
  },
  {
   "cell_type": "code",
   "execution_count": 2,
   "id": "182e6f07",
   "metadata": {},
   "outputs": [],
   "source": [
    "import math"
   ]
  },
  {
   "cell_type": "code",
   "execution_count": 6,
   "id": "78172978",
   "metadata": {},
   "outputs": [
    {
     "name": "stdout",
     "output_type": "stream",
     "text": [
      "Give 3 float point numbers: 10 20.1 5.1\n",
      "R1 = -0.29788\n",
      "R2 = -1.71212\n"
     ]
    }
   ],
   "source": [
    "\n",
    "A,B,C = list(map(float,input(\"Give 3 float point numbers: \").split()))\n",
    "D = (B*B)-(4*A*C)\n",
    "if(D <0 or A==0):\n",
    "    print(\"Impossivel calcular\")\n",
    "else:\n",
    "    D=math.sqrt(D)\n",
    "    R1 = (-B+D)/(2*A)\n",
    "    R2 = (-B-D)/(2*A)\n",
    "    print(f'R1 = {R1:0.5f}\\nR2 = {R2:0.5f}')\n"
   ]
  },
  {
   "cell_type": "code",
   "execution_count": null,
   "id": "14634b80",
   "metadata": {},
   "outputs": [],
   "source": []
  }
 ],
 "metadata": {
  "kernelspec": {
   "display_name": "Python 3 (ipykernel)",
   "language": "python",
   "name": "python3"
  },
  "language_info": {
   "codemirror_mode": {
    "name": "ipython",
    "version": 3
   },
   "file_extension": ".py",
   "mimetype": "text/x-python",
   "name": "python",
   "nbconvert_exporter": "python",
   "pygments_lexer": "ipython3",
   "version": "3.9.12"
  }
 },
 "nbformat": 4,
 "nbformat_minor": 5
}
